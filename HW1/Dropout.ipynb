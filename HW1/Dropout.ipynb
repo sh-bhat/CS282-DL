{
 "cells": [
  {
   "cell_type": "markdown",
   "metadata": {},
   "source": [
    "# Dropout\n",
    "Dropout [1] is a technique for regularizing neural networks by randomly setting some features to zero during the forward pass. In this exercise you will implement a dropout layer and modify your fully-connected network to optionally use dropout.\n",
    "\n",
    "[1] Geoffrey E. Hinton et al, \"Improving neural networks by preventing co-adaptation of feature detectors\", arXiv 2012"
   ]
  },
  {
   "cell_type": "code",
   "execution_count": 1,
   "metadata": {},
   "outputs": [],
   "source": [
    "# As usual, a bit of setup\n",
    "\n",
    "import time\n",
    "import numpy as np\n",
    "import matplotlib.pyplot as plt\n",
    "from deeplearning.classifiers.fc_net import *\n",
    "from deeplearning.data_utils import get_CIFAR10_data\n",
    "from deeplearning.gradient_check import eval_numerical_gradient, eval_numerical_gradient_array\n",
    "from deeplearning.solver import Solver\n",
    "import random \n",
    "import torch\n",
    "seed = 124\n",
    "torch.manual_seed(seed)\n",
    "random.seed(seed)\n",
    "np.random.seed(seed)\n",
    "\n",
    "%matplotlib inline\n",
    "plt.rcParams['figure.figsize'] = (10.0, 8.0) # set default size of plots\n",
    "plt.rcParams['image.interpolation'] = 'nearest'\n",
    "plt.rcParams['image.cmap'] = 'gray'\n",
    "\n",
    "# for auto-reloading external modules\n",
    "# see http://stackoverflow.com/questions/1907993/autoreload-of-modules-in-ipython\n",
    "%load_ext autoreload\n",
    "%autoreload 2\n",
    "\n",
    "def rel_error(x, y):\n",
    "    \"\"\" returns relative error \"\"\"\n",
    "    return np.max(np.abs(x - y) / (np.maximum(1e-8, np.abs(x) + np.abs(y))))"
   ]
  },
  {
   "cell_type": "code",
   "execution_count": 2,
   "metadata": {},
   "outputs": [
    {
     "name": "stdout",
     "output_type": "stream",
     "text": [
      "deeplearning/datasets/cifar-10-batches-py/data_batch_1\n",
      "deeplearning/datasets/cifar-10-batches-py/data_batch_2\n",
      "deeplearning/datasets/cifar-10-batches-py/data_batch_3\n",
      "deeplearning/datasets/cifar-10-batches-py/data_batch_4\n",
      "deeplearning/datasets/cifar-10-batches-py/data_batch_5\n",
      "deeplearning/datasets/cifar-10-batches-py/test_batch\n",
      "X_train:  (49000, 3, 32, 32)\n",
      "y_train:  (49000,)\n",
      "X_val:  (1000, 3, 32, 32)\n",
      "y_val:  (1000,)\n",
      "X_test:  (1000, 3, 32, 32)\n",
      "y_test:  (1000,)\n"
     ]
    }
   ],
   "source": [
    "# Load the (preprocessed) CIFAR10 data.\n",
    "\n",
    "data = get_CIFAR10_data()\n",
    "for k, v in data.items():\n",
    "    print ('%s: ' % k, v.shape)"
   ]
  },
  {
   "cell_type": "markdown",
   "metadata": {},
   "source": [
    "# Dropout forward pass\n",
    "In the file `deeplearning/layers.py`, implement the forward pass for dropout. Since dropout behaves differently during training and testing, make sure to implement the operation for both modes. Input means should be approximately the same as the output means at both train/test time.\n",
    "\n",
    "Once you have done so, run the cell below to test your implementation."
   ]
  },
  {
   "cell_type": "code",
   "execution_count": 24,
   "metadata": {},
   "outputs": [
    {
     "name": "stdout",
     "output_type": "stream",
     "text": [
      "Running tests with p =  0.3\n",
      "Mean of input:  10.002232573805996\n",
      "Mean of train-time output:  10.020848968991611\n",
      "Mean of test-time output:  10.002232573805996\n",
      "Fraction of train-time output set to zero:  0.298744\n",
      "Fraction of test-time output set to zero:  0.0\n",
      "Running tests with p =  0.6\n",
      "Mean of input:  10.002232573805996\n",
      "Mean of train-time output:  9.988279357721566\n",
      "Mean of test-time output:  10.002232573805996\n",
      "Fraction of train-time output set to zero:  0.600504\n",
      "Fraction of test-time output set to zero:  0.0\n",
      "Running tests with p =  0.75\n",
      "Mean of input:  10.002232573805996\n",
      "Mean of train-time output:  10.068252809886847\n",
      "Mean of test-time output:  10.002232573805996\n",
      "Fraction of train-time output set to zero:  0.748476\n",
      "Fraction of test-time output set to zero:  0.0\n"
     ]
    }
   ],
   "source": [
    "x = np.random.randn(500, 500) + 10\n",
    "\n",
    "for p in [0.3, 0.6, 0.75]:\n",
    "    out, _ = dropout_forward(x, {'mode': 'train', 'p': p})\n",
    "    out_test, _ = dropout_forward(x, {'mode': 'test', 'p': p})\n",
    "\n",
    "    print ('Running tests with p = ', p)\n",
    "    print ('Mean of input: ', x.mean())\n",
    "    print ('Mean of train-time output: ', out.mean())\n",
    "    print ('Mean of test-time output: ', out_test.mean())\n",
    "    print ('Fraction of train-time output set to zero: ', (out == 0).mean())\n",
    "    print ('Fraction of test-time output set to zero: ', (out_test == 0).mean())\n",
    "    print"
   ]
  },
  {
   "cell_type": "markdown",
   "metadata": {},
   "source": [
    "# Dropout backward pass\n",
    "In the file `deeplearning/layers.py`, implement the backward pass for dropout. After doing so, run the following cell to numerically gradient-check your implementation."
   ]
  },
  {
   "cell_type": "code",
   "execution_count": 25,
   "metadata": {},
   "outputs": [
    {
     "name": "stdout",
     "output_type": "stream",
     "text": [
      "dx relative error:  1.892905097654056e-11\n"
     ]
    }
   ],
   "source": [
    "x = np.random.randn(10, 10) + 10\n",
    "dout = np.random.randn(*x.shape)\n",
    "\n",
    "dropout_param = {'mode': 'train', 'p': 0.8, 'seed': 123}\n",
    "out, cache = dropout_forward(x, dropout_param)\n",
    "dx = dropout_backward(dout, cache)\n",
    "dx_num = eval_numerical_gradient_array(lambda xx: dropout_forward(xx, dropout_param)[0], x, dout)\n",
    "\n",
    "print ('dx relative error: ', rel_error(dx, dx_num))"
   ]
  },
  {
   "cell_type": "markdown",
   "metadata": {},
   "source": [
    "# Fully-connected nets with Dropout\n",
    "In the file `deeplearning/classifiers/fc_net.py`, modify your implementation to use dropout. Specificially, if the constructor the the net receives a nonzero value for the `dropout` parameter, then the net should add dropout immediately after every ReLU nonlinearity. After doing so, run the following to numerically gradient-check your implementation."
   ]
  },
  {
   "cell_type": "code",
   "execution_count": 26,
   "metadata": {},
   "outputs": [
    {
     "name": "stdout",
     "output_type": "stream",
     "text": [
      "Running check with dropout =  0\n",
      "dict_keys(['W1', 'b1', 'W2', 'b2', 'W3', 'b3'])\n",
      "Initial loss:  2.3051948273987857\n",
      "W1 relative error: 2.53e-07\n",
      "W2 relative error: 1.50e-05\n",
      "W3 relative error: 2.75e-07\n",
      "b1 relative error: 2.94e-06\n",
      "b2 relative error: 5.05e-08\n",
      "b3 relative error: 1.17e-10\n",
      "Running check with dropout =  0.25\n",
      "dict_keys(['W1', 'b1', 'W2', 'b2', 'W3', 'b3'])\n",
      "Initial loss:  2.302063409730764\n",
      "W1 relative error: 3.88e-08\n",
      "W2 relative error: 4.82e-07\n",
      "W3 relative error: 6.89e-08\n",
      "b1 relative error: 5.22e-09\n",
      "b2 relative error: 6.73e-09\n",
      "b3 relative error: 9.05e-11\n",
      "Running check with dropout =  0.5\n",
      "dict_keys(['W1', 'b1', 'W2', 'b2', 'W3', 'b3'])\n",
      "Initial loss:  2.3001387021244746\n",
      "W1 relative error: 3.48e-08\n",
      "W2 relative error: 3.92e-06\n",
      "W3 relative error: 2.34e-08\n",
      "b1 relative error: 1.53e-08\n",
      "b2 relative error: 1.57e-09\n",
      "b3 relative error: 9.70e-11\n"
     ]
    }
   ],
   "source": [
    "N, D, H1, H2, C = 2, 15, 20, 30, 10\n",
    "X = np.random.randn(N, D)\n",
    "y = np.random.randint(C, size=(N,))\n",
    "\n",
    "for dropout in [0, 0.25, 0.5]:\n",
    "    print ('Running check with dropout = ', dropout)\n",
    "    model = FullyConnectedNet([H1, H2], input_dim=D, num_classes=C,\n",
    "                            weight_scale=5e-2, dtype=np.float64,\n",
    "                            dropout=dropout, seed=123)\n",
    "    \n",
    "    loss, grads = model.loss(X, y)\n",
    "    print ('Initial loss: ', loss)\n",
    "\n",
    "    for name in sorted(grads):\n",
    "        f = lambda _: model.loss(X, y)[0]\n",
    "        grad_num = eval_numerical_gradient(f, model.params[name], verbose=False, h=1e-5)\n",
    "        print ('%s relative error: %.2e' % (name, rel_error(grad_num, grads[name])))\n",
    "    print"
   ]
  },
  {
   "cell_type": "markdown",
   "metadata": {},
   "source": [
    "# Regularization experiment\n",
    "As an experiment, we will train a pair of two-layer networks on 500 training examples: one will use no dropout, and one will use a dropout probability of 0.75. We will then visualize the training and validation accuracies of the two networks over time."
   ]
  },
  {
   "cell_type": "code",
   "execution_count": 27,
   "metadata": {
    "scrolled": false
   },
   "outputs": [
    {
     "name": "stdout",
     "output_type": "stream",
     "text": [
      "dict_keys(['W1', 'b1', 'W2', 'b2'])\n",
      "0\n",
      "(Iteration 1 / 125) loss: 7.816568\n",
      "(Epoch 0 / 25) train acc: 0.298000; val_acc: 0.211000\n"
     ]
    },
    {
     "name": "stderr",
     "output_type": "stream",
     "text": [
      "/Users/ashbhat/Desktop/Coursework/Neural Networks/cs182_hw1/deeplearning/layers.py:661: RuntimeWarning: divide by zero encountered in log\n",
      "  N = x.shape[0]\n"
     ]
    },
    {
     "name": "stdout",
     "output_type": "stream",
     "text": [
      "(Epoch 1 / 25) train acc: 0.406000; val_acc: 0.237000\n",
      "(Epoch 2 / 25) train acc: 0.472000; val_acc: 0.237000\n",
      "(Epoch 3 / 25) train acc: 0.570000; val_acc: 0.242000\n",
      "(Epoch 4 / 25) train acc: 0.662000; val_acc: 0.256000\n",
      "(Epoch 5 / 25) train acc: 0.714000; val_acc: 0.280000\n",
      "(Epoch 6 / 25) train acc: 0.800000; val_acc: 0.269000\n",
      "(Epoch 7 / 25) train acc: 0.806000; val_acc: 0.287000\n",
      "(Epoch 8 / 25) train acc: 0.878000; val_acc: 0.276000\n",
      "(Epoch 9 / 25) train acc: 0.908000; val_acc: 0.275000\n",
      "(Epoch 10 / 25) train acc: 0.942000; val_acc: 0.294000\n",
      "(Epoch 11 / 25) train acc: 0.948000; val_acc: 0.260000\n",
      "(Epoch 12 / 25) train acc: 0.976000; val_acc: 0.269000\n",
      "(Epoch 13 / 25) train acc: 0.976000; val_acc: 0.302000\n",
      "(Epoch 14 / 25) train acc: 0.970000; val_acc: 0.306000\n",
      "(Epoch 15 / 25) train acc: 0.974000; val_acc: 0.282000\n",
      "(Epoch 16 / 25) train acc: 0.988000; val_acc: 0.295000\n",
      "(Epoch 17 / 25) train acc: 0.986000; val_acc: 0.308000\n",
      "(Epoch 18 / 25) train acc: 0.988000; val_acc: 0.306000\n",
      "(Epoch 19 / 25) train acc: 0.996000; val_acc: 0.292000\n",
      "(Epoch 20 / 25) train acc: 0.996000; val_acc: 0.280000\n",
      "(Iteration 101 / 125) loss: 0.003369\n",
      "(Epoch 21 / 25) train acc: 0.994000; val_acc: 0.305000\n",
      "(Epoch 22 / 25) train acc: 0.986000; val_acc: 0.303000\n",
      "(Epoch 23 / 25) train acc: 0.986000; val_acc: 0.292000\n",
      "(Epoch 24 / 25) train acc: 1.000000; val_acc: 0.296000\n",
      "(Epoch 25 / 25) train acc: 0.990000; val_acc: 0.296000\n",
      "dict_keys(['W1', 'b1', 'W2', 'b2'])\n",
      "0.75\n",
      "(Iteration 1 / 125) loss: 15.994978\n",
      "(Epoch 0 / 25) train acc: 0.244000; val_acc: 0.201000\n",
      "(Epoch 1 / 25) train acc: 0.336000; val_acc: 0.233000\n",
      "(Epoch 2 / 25) train acc: 0.430000; val_acc: 0.274000\n",
      "(Epoch 3 / 25) train acc: 0.472000; val_acc: 0.268000\n",
      "(Epoch 4 / 25) train acc: 0.520000; val_acc: 0.263000\n",
      "(Epoch 5 / 25) train acc: 0.554000; val_acc: 0.250000\n",
      "(Epoch 6 / 25) train acc: 0.644000; val_acc: 0.293000\n",
      "(Epoch 7 / 25) train acc: 0.708000; val_acc: 0.298000\n",
      "(Epoch 8 / 25) train acc: 0.690000; val_acc: 0.276000\n",
      "(Epoch 9 / 25) train acc: 0.778000; val_acc: 0.286000\n",
      "(Epoch 10 / 25) train acc: 0.780000; val_acc: 0.287000\n",
      "(Epoch 11 / 25) train acc: 0.798000; val_acc: 0.289000\n",
      "(Epoch 12 / 25) train acc: 0.814000; val_acc: 0.295000\n",
      "(Epoch 13 / 25) train acc: 0.862000; val_acc: 0.307000\n",
      "(Epoch 14 / 25) train acc: 0.868000; val_acc: 0.291000\n",
      "(Epoch 15 / 25) train acc: 0.882000; val_acc: 0.284000\n",
      "(Epoch 16 / 25) train acc: 0.866000; val_acc: 0.293000\n",
      "(Epoch 17 / 25) train acc: 0.880000; val_acc: 0.284000\n",
      "(Epoch 18 / 25) train acc: 0.896000; val_acc: 0.288000\n",
      "(Epoch 19 / 25) train acc: 0.912000; val_acc: 0.293000\n",
      "(Epoch 20 / 25) train acc: 0.932000; val_acc: 0.312000\n",
      "(Iteration 101 / 125) loss: 2.626290\n",
      "(Epoch 21 / 25) train acc: 0.886000; val_acc: 0.299000\n",
      "(Epoch 22 / 25) train acc: 0.934000; val_acc: 0.293000\n",
      "(Epoch 23 / 25) train acc: 0.932000; val_acc: 0.305000\n",
      "(Epoch 24 / 25) train acc: 0.938000; val_acc: 0.302000\n",
      "(Epoch 25 / 25) train acc: 0.944000; val_acc: 0.308000\n"
     ]
    }
   ],
   "source": [
    "# Train two identical nets, one with dropout and one without\n",
    "\n",
    "num_train = 500\n",
    "small_data = {\n",
    "  'X_train': data['X_train'][:num_train],\n",
    "  'y_train': data['y_train'][:num_train],\n",
    "  'X_val': data['X_val'],\n",
    "  'y_val': data['y_val'],\n",
    "}\n",
    "\n",
    "solvers = {}\n",
    "dropout_choices = [0, 0.75]\n",
    "for dropout in dropout_choices:\n",
    "    model = FullyConnectedNet([500], dropout=dropout)\n",
    "    print (dropout)\n",
    "\n",
    "    solver = Solver(model, small_data,\n",
    "                  num_epochs=25, batch_size=100,\n",
    "                  update_rule='adam',\n",
    "                  optim_config={\n",
    "                    'learning_rate': 5e-4,\n",
    "                  },\n",
    "                  verbose=True, print_every=100)\n",
    "    solver.train()\n",
    "    solvers[dropout] = solver"
   ]
  },
  {
   "cell_type": "code",
   "execution_count": 29,
   "metadata": {
    "scrolled": true
   },
   "outputs": [
    {
     "data": {
      "image/png": "[encoded data removed]",
      "text/plain": [
       "<Figure size 1080x1080 with 2 Axes>"
      ]
     },
     "metadata": {
      "needs_background": "light"
     },
     "output_type": "display_data"
    }
   ],
   "source": [
    "# Plot train and validation accuracies of the two models\n",
    "\n",
    "train_accs = []\n",
    "val_accs = []\n",
    "for dropout in dropout_choices:\n",
    "    solver = solvers[dropout]\n",
    "    train_accs.append(solver.train_acc_history[-1])\n",
    "    val_accs.append(solver.val_acc_history[-1])\n",
    "    solver.record_histories_as_npz('submission_logs/dropout_regularization_experiment_p{}.npz'.format(dropout))\n",
    "\n",
    "plt.subplot(3, 1, 1)\n",
    "for dropout in dropout_choices:\n",
    "    plt.plot(solvers[dropout].train_acc_history, 'o', label='%.2f dropout' % dropout)\n",
    "plt.title('Train accuracy')\n",
    "plt.xlabel('Epoch')\n",
    "plt.ylabel('Accuracy')\n",
    "plt.legend(ncol=2, loc='lower right')\n",
    "  \n",
    "plt.subplot(3, 1, 2)\n",
    "for dropout in dropout_choices:\n",
    "    plt.plot(solvers[dropout].val_acc_history, 'o', label='%.2f dropout' % dropout)\n",
    "plt.title('Val accuracy')\n",
    "plt.xlabel('Epoch')\n",
    "plt.ylabel('Accuracy')\n",
    "plt.legend(ncol=2, loc='lower right')\n",
    "\n",
    "plt.gcf().set_size_inches(15, 15)\n",
    "plt.show()"
   ]
  },
  {
   "cell_type": "markdown",
   "metadata": {},
   "source": [
    "# Question\n",
    "Explain what you see in this experiment. What does it suggest about dropout?"
   ]
  },
  {
   "cell_type": "markdown",
   "metadata": {},
   "source": [
    "# Answer\n",
    "Dropout is a form of regularization which prevents reduces training accuracy and can offer slightly better validation performance."
   ]
  }
 ],
 "metadata": {
  "kernelspec": {
   "display_name": "Python 3 (ipykernel)",
   "language": "python",
   "name": "python3"
  },
  "language_info": {
   "codemirror_mode": {
    "name": "ipython",
    "version": 3
   },
   "file_extension": ".py",
   "mimetype": "text/x-python",
   "name": "python",
   "nbconvert_exporter": "python",
   "pygments_lexer": "ipython3",
   "version": "3.8.12"
  }
 },
 "nbformat": 4,
 "nbformat_minor": 1
}

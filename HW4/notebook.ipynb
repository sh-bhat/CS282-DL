{
  "cells": [
    {
      "cell_type": "markdown",
      "metadata": {
        "id": "ohhBQGEKZ9z-"
      },
      "source": [
        "# Vision Transformer and Masked Autoencoder\n",
        "\n",
        "In this assignment, you will be implementing [Vision Transformer (ViT)](https://arxiv.org/abs/2010.11929) and [Masked Autoencoder (MAE)](https://arxiv.org/abs/2111.06377)."
      ]
    },
    {
      "cell_type": "markdown",
      "metadata": {
        "id": "Sr_tSqTXc0VE"
      },
      "source": [
        "## Setup"
      ]
    },
    {
      "cell_type": "markdown",
      "metadata": {
        "id": "M-f8SLhqa585"
      },
      "source": [
        "We recommend working on Colab with GPU enabled since this assignment needs a fair amount of compute.\n",
        "In Colab, we can enforce using GPU by clicking `Runtime -> Change Runtime Type -> Hardware accelerator` and selecting `GPU`.\n",
        "The dependencies will be installed once the notebooks are excuted.\n",
        "\n",
        "You should make a copy of this notebook to your Google Drive otherwise the outputs will not be saved.\n",
        "Once the folder is copied, you can start working by clicking a Jupyter Notebook and openning it in Colab."
      ]
    },
    {
      "cell_type": "code",
      "execution_count": null,
      "metadata": {
        "colab": {
          "base_uri": "https://localhost:8080/"
        },
        "id": "nI_3cNKMGL2a",
        "outputId": "d9fe1752-e7c8-45b6-8d0a-37e9b81107e7"
      },
      "outputs": [
        {
          "name": "stdout",
          "output_type": "stream",
          "text": [
            "Mon May  9 23:59:45 2022       \n",
            "+-----------------------------------------------------------------------------+\n",
            "| NVIDIA-SMI 460.32.03    Driver Version: 460.32.03    CUDA Version: 11.2     |\n",
            "|-------------------------------+----------------------+----------------------+\n",
            "| GPU  Name        Persistence-M| Bus-Id        Disp.A | Volatile Uncorr. ECC |\n",
            "| Fan  Temp  Perf  Pwr:Usage/Cap|         Memory-Usage | GPU-Util  Compute M. |\n",
            "|                               |                      |               MIG M. |\n",
            "|===============================+======================+======================|\n",
            "|   0  Tesla P100-PCIE...  Off  | 00000000:00:04.0 Off |                    0 |\n",
            "| N/A   37C    P0    35W / 250W |   1925MiB / 16280MiB |      0%      Default |\n",
            "|                               |                      |                  N/A |\n",
            "+-------------------------------+----------------------+----------------------+\n",
            "                                                                               \n",
            "+-----------------------------------------------------------------------------+\n",
            "| Processes:                                                                  |\n",
            "|  GPU   GI   CI        PID   Type   Process name                  GPU Memory |\n",
            "|        ID   ID                                                   Usage      |\n",
            "|=============================================================================|\n",
            "+-----------------------------------------------------------------------------+\n"
          ]
        }
      ],
      "source": [
        "!nvidia-smi # Confirm GPU is enabled"
      ]
    },
    {
      "cell_type": "code",
      "execution_count": null,
      "metadata": {
        "id": "9hFl82FA59le"
      },
      "outputs": [],
      "source": [
        "pip -q install einops"
      ]
    },
    {
      "cell_type": "code",
      "execution_count": null,
      "metadata": {
        "id": "imL8NunGXV5f"
      },
      "outputs": [],
      "source": [
        "import numpy as np\n",
        "from matplotlib import pyplot as plt\n",
        "import seaborn\n",
        "seaborn.set()\n",
        "\n",
        "from tqdm.notebook import trange, tqdm\n",
        "\n",
        "import torch\n",
        "import torch.nn as nn\n",
        "import torch.nn.functional as F\n",
        "import torch.optim as optim\n",
        "\n",
        "import torchvision\n",
        "import torchvision.transforms as transforms\n",
        "\n",
        "import einops\n",
        "import pickle\n",
        "import os\n",
        "\n",
        "torch_device = 'cuda' if torch.cuda.is_available() else 'cpu'"
      ]
    },
    {
      "cell_type": "code",
      "execution_count": null,
      "metadata": {
        "colab": {
          "base_uri": "https://localhost:8080/"
        },
        "id": "hHjvJvZhkv-i",
        "outputId": "01e860de-32c0-4d81-ffd1-338f02361752"
      },
      "outputs": [
        {
          "name": "stdout",
          "output_type": "stream",
          "text": [
            "Drive already mounted at /content/drive; to attempt to forcibly remount, call drive.mount(\"/content/drive\", force_remount=True).\n"
          ]
        }
      ],
      "source": [
        "# Mount drive to save models and logs\n",
        "from google.colab import drive\n",
        "drive.mount('/content/drive')"
      ]
    },
    {
      "cell_type": "markdown",
      "metadata": {
        "id": "X1wxozGQcVUz"
      },
      "source": [
        "**Note**: change ```root_folder``` to the folder of this notebook in your google drive"
      ]
    },
    {
      "cell_type": "code",
      "execution_count": null,
      "metadata": {
        "id": "eRrKGY0ycIS6"
      },
      "outputs": [],
      "source": [
        "root_folder = \"/content/drive/MyDrive/cs182_hw4_colab/\"\n",
        "os.makedirs(root_folder, exist_ok=True)\n",
        "os.chdir(root_folder)"
      ]
    },
    {
      "cell_type": "code",
      "execution_count": null,
      "metadata": {
        "cellView": "form",
        "colab": {
          "base_uri": "https://localhost:8080/"
        },
        "id": "nl3t1xKoWee7",
        "outputId": "821dc2e2-17e6-4919-ee5d-cadc3bd5a998"
      },
      "outputs": [
        {
          "name": "stdout",
          "output_type": "stream",
          "text": [
            "--2022-05-09 23:59:52--  https://cs182sp22.github.io/assets/data/autograder_student.pt\n",
            "Resolving cs182sp22.github.io (cs182sp22.github.io)... 185.199.108.153, 185.199.109.153, 185.199.110.153, ...\n",
            "Connecting to cs182sp22.github.io (cs182sp22.github.io)|185.199.108.153|:443... connected.\n",
            "HTTP request sent, awaiting response... 200 OK\n",
            "Length: 44880551 (43M) [application/octet-stream]\n",
            "Saving to: ‘/content/autograder_student.pt’\n",
            "\n",
            "/content/autograder 100%[===================>]  42.80M  --.-KB/s    in 0.1s    \n",
            "\n",
            "2022-05-09 23:59:52 (361 MB/s) - ‘/content/autograder_student.pt’ saved [44880551/44880551]\n",
            "\n",
            "--2022-05-09 23:59:52--  https://cs182sp22.github.io/assets/data/test_reference.pt\n",
            "Resolving cs182sp22.github.io (cs182sp22.github.io)... 185.199.108.153, 185.199.109.153, 185.199.110.153, ...\n",
            "Connecting to cs182sp22.github.io (cs182sp22.github.io)|185.199.108.153|:443... connected.\n",
            "HTTP request sent, awaiting response... 200 OK\n",
            "Length: 45954513 (44M) [application/octet-stream]\n",
            "Saving to: ‘/content/test_reference.pt’\n",
            "\n",
            "/content/test_refer 100%[===================>]  43.83M  --.-KB/s    in 0.1s    \n",
            "\n",
            "2022-05-09 23:59:52 (339 MB/s) - ‘/content/test_reference.pt’ saved [45954513/45954513]\n",
            "\n"
          ]
        }
      ],
      "source": [
        "#@title Download Testing Data\n",
        "!wget -O '/content/autograder_student.pt' 'https://cs182sp22.github.io/assets/data/autograder_student.pt'\n",
        "!wget -O '/content/test_reference.pt' 'https://cs182sp22.github.io/assets/data/test_reference.pt'\n",
        "\n",
        "test_data = torch.load('/content/test_reference.pt')\n",
        "auto_grader_data = torch.load('/content/autograder_student.pt')\n",
        "auto_grader_data['output'] = {}"
      ]
    },
    {
      "cell_type": "code",
      "execution_count": null,
      "metadata": {
        "cellView": "form",
        "id": "Uv1eceRfsIHZ"
      },
      "outputs": [],
      "source": [
        "#@title Utilities for Testing\n",
        "def save_auto_grader_data():\n",
        "    torch.save(\n",
        "        {'output': auto_grader_data['output']},\n",
        "        'autograder.pt'\n",
        "    )\n",
        "\n",
        "def rel_error(x, y):\n",
        "    return torch.max(\n",
        "        torch.abs(x - y)\n",
        "        / (torch.maximum(torch.tensor(1e-8), torch.abs(x) + torch.abs(y)))\n",
        "    ).item()\n",
        "\n",
        "def check_error(name, x, y, tol=1e-3):\n",
        "    error = rel_error(x, y)\n",
        "    if error > tol:\n",
        "        print(f'The relative error for {name} is {error}, should be smaller than {tol}')\n",
        "    else:\n",
        "        print(f'The relative error for {name} is {error}')\n",
        "\n",
        "def check_acc(acc, threshold):\n",
        "    if acc < threshold:\n",
        "        print(f'The accuracy {acc} should >= threshold accuracy {threshold}')\n",
        "    else:\n",
        "        print(f'The accuracy {acc} is better than threshold accuracy {threshold}')"
      ]
    },
    {
      "cell_type": "markdown",
      "metadata": {
        "id": "-Ii0DgIQdsmQ"
      },
      "source": [
        "## Vision Transformer\n",
        "The first part of this notebook is implementing Vision Transformer (ViT) and training it on CIFAR dataset."
      ]
    },
    {
      "cell_type": "markdown",
      "metadata": {
        "id": "MquneePhckk8"
      },
      "source": [
        "### Image patchify and unpatchify\n",
        "\n",
        "In ViT, an image is split into fixed-size patches, each of them are then linearly embedded, position embeddings are added, and the resulting sequence of vectors is fed to a standard Transformer encoder. The architecture can be seen in the following figure.\n",
        "![vit](https://github.com/google-research/vision_transformer/blob/main/vit_figure.png?raw=true)\n",
        "\n",
        "To get started with implementing ViT, you need to implement splitting image batch into fixed-size patches batch in ```patchify``` and combining patches batch into the original image batch in ```unpatchify```.\n",
        "\n",
        "We strongly recommend using [einops](https://github.com/arogozhnikov/einops) for flexible tensor operations, you can check out its [tutorial](https://einops.rocks/1-einops-basics/). "
      ]
    },
    {
      "cell_type": "code",
      "execution_count": null,
      "metadata": {
        "id": "hS2qs7nD5iyp"
      },
      "outputs": [],
      "source": [
        "def patchify(images, patch_size=4):\n",
        "    \"\"\"Splitting images into patches.\n",
        "    Args:\n",
        "        images: Input tensor with size (batch, channels, height, width)\n",
        "            We can assume that image is square where height == width.\n",
        "    Returns:\n",
        "        A batch of image patches with size (\n",
        "          batch, (height / patch_size) * (width / patch_size), \n",
        "        channels * patch_size * patch_size)\n",
        "    \"\"\"\n",
        "    # BEGIN YOUR CODE\n",
        "    patches = einops.rearrange(images, 'b c (h p1) (w p2) -> b (h w) (c p1 p2)', p1=patch_size, p2=patch_size)\n",
        "    return patches\n",
        "    # END YOUR CODE\n",
        "\n",
        "def unpatchify(patches, patch_size=4):\n",
        "    \"\"\"Combining patches into images.\n",
        "    Args:\n",
        "        patches: Input tensor with size (\n",
        "        batch, (height / patch_size) * (width / patch_size), \n",
        "        channels * patch_size * patch_size)\n",
        "    Returns:\n",
        "        A batch of images with size (batch, channels, height, width)\n",
        "    \"\"\"\n",
        "    # BEGIN YOUR CODE\n",
        "    h = int(np.sqrt(patches.shape[1]))\n",
        "    images = einops.rearrange(patches, 'b (h w) (c p1 p2) -> b c (h p1) (w p2)', p1=patch_size, p2=patch_size, h=h)\n",
        "    return images\n",
        "    # END YOUR CODE"
      ]
    },
    {
      "cell_type": "code",
      "execution_count": null,
      "metadata": {
        "colab": {
          "base_uri": "https://localhost:8080/"
        },
        "id": "plMY_EoNZ4ip",
        "outputId": "a0c88808-a442-439c-95ef-032148924b33"
      },
      "outputs": [
        {
          "name": "stdout",
          "output_type": "stream",
          "text": [
            "The relative error for patchify is 0.0\n",
            "The relative error for unpatchify is 0.0\n"
          ]
        }
      ],
      "source": [
        "#@title Test your implementation\n",
        "x = test_data['input']['patchify']\n",
        "y = test_data['output']['patchify']\n",
        "check_error('patchify', patchify(x), y)\n",
        "x = auto_grader_data['input']['patchify']\n",
        "auto_grader_data['output']['patchify'] = patchify(x)\n",
        "save_auto_grader_data()\n",
        "\n",
        "\n",
        "x = test_data['input']['unpatchify']\n",
        "y = test_data['output']['unpatchify']\n",
        "\n",
        "check_error('unpatchify', unpatchify(x), y)\n",
        "\n",
        "x = auto_grader_data['input']['unpatchify']\n",
        "auto_grader_data['output']['unpatchify'] = unpatchify(x)\n",
        "\n",
        "save_auto_grader_data()"
      ]
    },
    {
      "cell_type": "markdown",
      "metadata": {
        "id": "sFlVruRYhBlR"
      },
      "source": [
        "### ViT model\n",
        "You need to use the given Transformer encoder ```Transformer``` to implement ViT in ```ViT``` and ```ClassificationViT```."
      ]
    },
    {
      "cell_type": "code",
      "execution_count": null,
      "metadata": {
        "id": "gpZeS39N8BPJ"
      },
      "outputs": [],
      "source": [
        "class Transformer(nn.Module):\n",
        "    \"\"\"Transformer Encoder \n",
        "    Args:\n",
        "        embedding_dim: dimension of embedding\n",
        "        n_heads: number of attention heads\n",
        "        n_layers: number of attention layers\n",
        "        feedforward_dim: hidden dimension of MLP layer\n",
        "    Returns:\n",
        "        Transformer embedding of input\n",
        "    \"\"\"\n",
        "    def __init__(self, embedding_dim=256, n_heads=4, n_layers=4, feedforward_dim=1024):\n",
        "        super().__init__()\n",
        "        self.embedding_dim = embedding_dim\n",
        "        self.n_layers = n_layers\n",
        "        self.n_heads = n_heads\n",
        "        self.feedforward_dim = feedforward_dim\n",
        "        self.transformer = nn.TransformerEncoder(\n",
        "            nn.TransformerEncoderLayer(\n",
        "                d_model=embedding_dim,\n",
        "                nhead=self.n_heads,\n",
        "                dim_feedforward=self.feedforward_dim,\n",
        "                activation=F.gelu,\n",
        "                batch_first=True,\n",
        "                dropout=0.0,\n",
        "            ),\n",
        "            num_layers=n_layers,\n",
        "        )\n",
        "\n",
        "    def forward(self, x):\n",
        "        return self.transformer(x)\n",
        "\n",
        "class ClassificationViT(nn.Module):\n",
        "    \"\"\"Vision transformer for classfication\n",
        "    Args:\n",
        "        n_classes: number of classes \n",
        "        embedding_dim: dimension of embedding\n",
        "        patch_size: image patch size\n",
        "        num_patches: number of image patches\n",
        "    Returns:\n",
        "        Logits of classfication\n",
        "    \"\"\"\n",
        "    def __init__(self, n_classes, embedding_dim=256, patch_size=4, num_patches=8):\n",
        "        super().__init__()\n",
        "        self.patch_size = patch_size\n",
        "        self.num_patches = num_patches\n",
        "        self.embedding_dim = embedding_dim\n",
        "        self.n_classes = n_classes\n",
        "        self.transformer = Transformer(embedding_dim)\n",
        "        self.cls_token = nn.Parameter(torch.randn(1, 1, embedding_dim) * 0.02)\n",
        "        self.position_encoding = nn.Parameter(\n",
        "            torch.randn(1, num_patches * num_patches + 1, embedding_dim) * 0.02\n",
        "        )\n",
        "        self.patch_projection = nn.Linear(patch_size * patch_size * 3, embedding_dim)\n",
        "        \n",
        "        # A Layernorm and a Linear layer are applied on ViT encoder embeddings\n",
        "        self.output_head = nn.Sequential(\n",
        "            nn.LayerNorm(embedding_dim), nn.Linear(embedding_dim, n_classes)\n",
        "        )\n",
        "\n",
        "    def forward(self, images):\n",
        "        \"\"\" \n",
        "        (1) Splitting images into fixed-size patches; \n",
        "        (2) Linearly embed each image patch, append CLS token; \n",
        "        (3) Add position embeddings;\n",
        "        (4) Feed the resulting sequence of vectors to Transformer encoder.\n",
        "        (5) Extract the embeddings corresponding to the CLS token.\n",
        "        (6) Apply output head to the embeddings to obtain the logits\n",
        "        \"\"\"\n",
        "        # BEGIN YOUR CODE\n",
        "        x = patchify(images)\n",
        "        b = x.shape[0]\n",
        "        x = self.patch_projection(x)\n",
        "\n",
        "        c = self.cls_token.repeat(b,1,1)\n",
        "        x = torch.cat([c, x], dim=1)\n",
        "        \n",
        "        x = x + self.position_encoding\n",
        "        x = self.transformer(x)\n",
        "        x = x[:,0,:]\n",
        "        x = self.output_head(x)\n",
        "        return x\n",
        "        # END YOUR CODE\n"
      ]
    },
    {
      "cell_type": "code",
      "execution_count": null,
      "metadata": {
        "colab": {
          "base_uri": "https://localhost:8080/"
        },
        "id": "D3-wRAClbpnf",
        "outputId": "ed791e19-0c9f-4078-d8ec-1ab766fb1dba"
      },
      "outputs": [
        {
          "name": "stdout",
          "output_type": "stream",
          "text": [
            "The relative error for ClassificationViT.forward is 1.541456913400907e-05\n"
          ]
        }
      ],
      "source": [
        "#@title Test your implementation\n",
        "model = ClassificationViT(10)\n",
        "model.load_state_dict(test_data['weights']['ClassificationViT'])\n",
        "x = test_data['input']['ClassificationViT.forward']\n",
        "y = model.forward(x)\n",
        "check_error('ClassificationViT.forward', y, test_data['output']['ClassificationViT.forward'])\n",
        "\n",
        "model.load_state_dict(auto_grader_data['weights']['ClassificationViT'])\n",
        "x = auto_grader_data['input']['ClassificationViT.forward']\n",
        "y = model.forward(x)\n",
        "auto_grader_data['output']['ClassificationViT.forward'] = y\n",
        "save_auto_grader_data()"
      ]
    },
    {
      "cell_type": "markdown",
      "metadata": {
        "id": "R1m2Q5dNnZXT"
      },
      "source": [
        "### Data Loader and Preprocess\n",
        "\n",
        "We use ```torchvision``` to download and prepare images and labels."
      ]
    },
    {
      "cell_type": "code",
      "execution_count": null,
      "metadata": {
        "id": "Mo6g5TrDJjIe"
      },
      "outputs": [],
      "source": [
        "from six.moves import urllib\n",
        "opener = urllib.request.build_opener()\n",
        "opener.addheaders = [('User-agent', 'Mozilla/5.0')]\n",
        "urllib.request.install_opener(opener)"
      ]
    },
    {
      "cell_type": "code",
      "execution_count": null,
      "metadata": {
        "colab": {
          "base_uri": "https://localhost:8080/"
        },
        "id": "F_EBBMgv-FRI",
        "outputId": "eb42ce17-7267-4571-d575-1344477fc4bc"
      },
      "outputs": [
        {
          "name": "stdout",
          "output_type": "stream",
          "text": [
            "Files already downloaded and verified\n",
            "Files already downloaded and verified\n"
          ]
        }
      ],
      "source": [
        "transform_train = transforms.Compose([\n",
        "    transforms.RandomCrop(32, padding=4),\n",
        "    transforms.Resize(32),\n",
        "    transforms.RandomHorizontalFlip(),\n",
        "    transforms.ToTensor(),\n",
        "    transforms.Normalize((0.4914, 0.4822, 0.4465), (0.2023, 0.1994, 0.2010)),\n",
        "])\n",
        "\n",
        "transform_test = transforms.Compose([\n",
        "    transforms.Resize(32),\n",
        "    transforms.ToTensor(),\n",
        "    transforms.Normalize((0.4914, 0.4822, 0.4465), (0.2023, 0.1994, 0.2010)),\n",
        "])\n",
        "\n",
        "batch_size = 128\n",
        "\n",
        "trainset = torchvision.datasets.CIFAR10(root='/content/data', train=True, download=True, transform=transform_train)\n",
        "trainloader = torch.utils.data.DataLoader(trainset, batch_size=batch_size,\n",
        "                                          shuffle=True, num_workers=2)\n",
        "\n",
        "testset = torchvision.datasets.CIFAR10(root='/content/data', train=False,\n",
        "                                       download=True, transform=transform_test)\n",
        "testloader = torch.utils.data.DataLoader(testset, batch_size=batch_size,\n",
        "                                         shuffle=False, num_workers=2)"
      ]
    },
    {
      "cell_type": "markdown",
      "metadata": {
        "id": "FnTEdan3r3_K"
      },
      "source": [
        "### Supervised Training ViT \n",
        "\n"
      ]
    },
    {
      "cell_type": "code",
      "execution_count": null,
      "metadata": {
        "colab": {
          "background_save": true,
          "base_uri": "https://localhost:8080/",
          "height": 1000,
          "referenced_widgets": [
            "268273332d20439ab87827bc03a40f00",
            "c2cc770ee6ae494f9b7245c43790c97a",
            "be9359421ccd47f09309d0f9102ca410",
            "3fa523d8f4e34a35a4ae5ab4463b3f97",
            "e652418c33074658a4e1b87fc779bb2a",
            "07500c14b21d4aa69a04c13e4b1a076b",
            "f08ba2d2686847688e3637fb71f45da0",
            "add933b306144187bb2e3ecacdaf8b02",
            "6d744dc7bc304406811d96ff597bc2f2",
            "7854e211916a4a3ab8e489528846580d",
            "d88d1359e2a64bbdb68348ca235f168b"
          ]
        },
        "id": "5JyOv6GfCFVQ",
        "outputId": "a863e5c7-73df-4e7d-c266-bf3928320305"
      },
      "outputs": [
        {
          "data": {
            "application/vnd.jupyter.widget-view+json": {
              "model_id": "268273332d20439ab87827bc03a40f00",
              "version_major": 2,
              "version_minor": 0
            },
            "text/plain": [
              "  0%|          | 0/10 [00:00<?, ?it/s]"
            ]
          },
          "metadata": {},
          "output_type": "display_data"
        },
        {
          "data": {
            "application/vnd.jupyter.widget-view+json": {
              "model_id": "c2cc770ee6ae494f9b7245c43790c97a",
              "version_major": 2,
              "version_minor": 0
            },
            "text/plain": [
              "  0%|          | 0/391 [00:00<?, ?it/s]"
            ]
          },
          "metadata": {},
          "output_type": "display_data"
        },
        {
          "data": {
            "application/vnd.jupyter.widget-view+json": {
              "model_id": "be9359421ccd47f09309d0f9102ca410",
              "version_major": 2,
              "version_minor": 0
            },
            "text/plain": [
              "  0%|          | 0/391 [00:00<?, ?it/s]"
            ]
          },
          "metadata": {},
          "output_type": "display_data"
        },
        {
          "data": {
            "application/vnd.jupyter.widget-view+json": {
              "model_id": "3fa523d8f4e34a35a4ae5ab4463b3f97",
              "version_major": 2,
              "version_minor": 0
            },
            "text/plain": [
              "  0%|          | 0/391 [00:00<?, ?it/s]"
            ]
          },
          "metadata": {},
          "output_type": "display_data"
        },
        {
          "data": {
            "application/vnd.jupyter.widget-view+json": {
              "model_id": "e652418c33074658a4e1b87fc779bb2a",
              "version_major": 2,
              "version_minor": 0
            },
            "text/plain": [
              "  0%|          | 0/391 [00:00<?, ?it/s]"
            ]
          },
          "metadata": {},
          "output_type": "display_data"
        },
        {
          "data": {
            "application/vnd.jupyter.widget-view+json": {
              "model_id": "07500c14b21d4aa69a04c13e4b1a076b",
              "version_major": 2,
              "version_minor": 0
            },
            "text/plain": [
              "  0%|          | 0/391 [00:00<?, ?it/s]"
            ]
          },
          "metadata": {},
          "output_type": "display_data"
        },
        {
          "data": {
            "application/vnd.jupyter.widget-view+json": {
              "model_id": "f08ba2d2686847688e3637fb71f45da0",
              "version_major": 2,
              "version_minor": 0
            },
            "text/plain": [
              "  0%|          | 0/391 [00:00<?, ?it/s]"
            ]
          },
          "metadata": {},
          "output_type": "display_data"
        },
        {
          "data": {
            "application/vnd.jupyter.widget-view+json": {
              "model_id": "add933b306144187bb2e3ecacdaf8b02",
              "version_major": 2,
              "version_minor": 0
            },
            "text/plain": [
              "  0%|          | 0/391 [00:00<?, ?it/s]"
            ]
          },
          "metadata": {},
          "output_type": "display_data"
        },
        {
          "data": {
            "application/vnd.jupyter.widget-view+json": {
              "model_id": "6d744dc7bc304406811d96ff597bc2f2",
              "version_major": 2,
              "version_minor": 0
            },
            "text/plain": [
              "  0%|          | 0/391 [00:00<?, ?it/s]"
            ]
          },
          "metadata": {},
          "output_type": "display_data"
        },
        {
          "data": {
            "application/vnd.jupyter.widget-view+json": {
              "model_id": "7854e211916a4a3ab8e489528846580d",
              "version_major": 2,
              "version_minor": 0
            },
            "text/plain": [
              "  0%|          | 0/391 [00:00<?, ?it/s]"
            ]
          },
          "metadata": {},
          "output_type": "display_data"
        },
        {
          "data": {
            "application/vnd.jupyter.widget-view+json": {
              "model_id": "d88d1359e2a64bbdb68348ca235f168b",
              "version_major": 2,
              "version_minor": 0
            },
            "text/plain": [
              "  0%|          | 0/391 [00:00<?, ?it/s]"
            ]
          },
          "metadata": {},
          "output_type": "display_data"
        },
        {
          "data": {
            "text/plain": [
              "Text(0.5, 1.0, 'Val Accuracy')"
            ]
          },
          "execution_count": null,
          "metadata": {},
          "output_type": "execute_result"
        },
        {
          "data": {
            "image/png": "[encoded data removed]",
            "text/plain": [
              "<Figure size 432x288 with 1 Axes>"
            ]
          },
          "metadata": {},
          "output_type": "display_data"
        },
        {
          "data": {
            "image/png": "[encoded data removed]",
            "text/plain": [
              "<Figure size 432x288 with 1 Axes>"
            ]
          },
          "metadata": {},
          "output_type": "display_data"
        },
        {
          "data": {
            "image/png": "[encoded data removed]",
            "text/plain": [
              "<Figure size 432x288 with 1 Axes>"
            ]
          },
          "metadata": {},
          "output_type": "display_data"
        }
      ],
      "source": [
        "# Initilize model (ClassificationViT)\n",
        "model = ClassificationViT(10)\n",
        "# Move model to GPU \n",
        "model.to(torch_device)\n",
        "# Create optimizer for the model\n",
        "\n",
        "# You may want to tune these hyperparameters to get better performance\n",
        "optimizer = optim.AdamW(model.parameters(), lr=1e-3, betas=(0.9, 0.95), weight_decay=1e-9)\n",
        "\n",
        "total_steps = 0\n",
        "num_epochs = 10\n",
        "train_logfreq = 100\n",
        "losses = []\n",
        "train_acc = []\n",
        "all_val_acc = []\n",
        "best_val_acc = 0\n",
        "\n",
        "epoch_iterator = trange(num_epochs)\n",
        "for epoch in epoch_iterator:\n",
        "    # Train\n",
        "    data_iterator = tqdm(trainloader)\n",
        "    for x, y in data_iterator:\n",
        "        total_steps += 1\n",
        "        x, y = x.to(torch_device), y.to(torch_device)\n",
        "        logits = model(x)\n",
        "        loss = torch.mean(F.cross_entropy(logits, y))\n",
        "        accuracy = torch.mean((torch.argmax(logits, dim=-1) == y).float())\n",
        "        optimizer.zero_grad()\n",
        "        loss.backward()\n",
        "        optimizer.step()\n",
        "\n",
        "        data_iterator.set_postfix(loss=loss.item(), train_acc=accuracy.item())\n",
        "\n",
        "        if total_steps % train_logfreq == 0:\n",
        "            losses.append(loss.item())\n",
        "            train_acc.append(accuracy.item())\n",
        "\n",
        "    # Validation\n",
        "    val_acc = []\n",
        "    model.eval()\n",
        "    for x, y in testloader:\n",
        "        x, y = x.to(torch_device), y.to(torch_device)\n",
        "        with torch.no_grad():\n",
        "          logits = model(x)\n",
        "        accuracy = torch.mean((torch.argmax(logits, dim=-1) == y).float())\n",
        "        val_acc.append(accuracy.item())\n",
        "    model.train()\n",
        "\n",
        "    all_val_acc.append(np.mean(val_acc))\n",
        "    # Save best model\n",
        "    if np.mean(val_acc) > best_val_acc:\n",
        "        best_val_acc = np.mean(val_acc)\n",
        "\n",
        "    epoch_iterator.set_postfix(val_acc=np.mean(val_acc), best_val_acc=best_val_acc)\n",
        "\n",
        "plt.plot(losses)\n",
        "plt.title('Train Loss')\n",
        "plt.figure()\n",
        "plt.plot(train_acc)\n",
        "plt.title('Train Accuracy')\n",
        "plt.figure()\n",
        "plt.plot(all_val_acc)\n",
        "plt.title('Val Accuracy')"
      ]
    },
    {
      "cell_type": "code",
      "execution_count": null,
      "metadata": {
        "cellView": "form",
        "colab": {
          "background_save": true,
          "base_uri": "https://localhost:8080/"
        },
        "id": "OikMO6_LCmik",
        "outputId": "be9c2dd0-9c9c-4ace-c9a1-d0212d504c69"
      },
      "outputs": [
        {
          "name": "stdout",
          "output_type": "stream",
          "text": [
            "The accuracy 0.6911590189873418 is better than threshold accuracy 0.65\n"
          ]
        }
      ],
      "source": [
        "#@title Test your implementation, your accuracy should be greater than 65%\n",
        "auto_grader_data['output']['vit_acc'] = best_val_acc\n",
        "save_auto_grader_data()\n",
        "check_acc(best_val_acc, threshold=0.65)"
      ]
    },
    {
      "cell_type": "markdown",
      "metadata": {
        "id": "Ij4IVDMIsB5o"
      },
      "source": [
        "## Masked AutoEncoder\n",
        "\n",
        "The second part of this notebook is implementing Masked Autoencoder (MAE).\n",
        "The idea of MAE is masking random patches of the input image and reconstruct the missing pixels. This whole achitecture can be seen in the following figure.\n",
        "![mae](https://user-images.githubusercontent.com/11435359/146857310-f258c86c-fde6-48e8-9cee-badd2b21bd2c.png)\n",
        "\n",
        "You will train MAE without labels on CIFAR, aka, self-supervised learning.\n",
        "Then you will use the self-supervised pretrained model for linear classification and finetuning experiments."
      ]
    },
    {
      "cell_type": "markdown",
      "metadata": {
        "id": "ufTgPU_Rszsd"
      },
      "source": [
        "### Random Masking and Restore\n",
        "\n",
        "To get started with MAE, you need to implement ```random_masking``` to mask random patches from the input image and ```restore_masked``` to combine reconstructed masked part and unmasked part to restore the image."
      ]
    },
    {
      "cell_type": "code",
      "execution_count": null,
      "metadata": {
        "colab": {
          "background_save": true
        },
        "id": "eKkRHTjMUOJ7"
      },
      "outputs": [],
      "source": [
        "def index_sequence(x, ids):\n",
        "    \"\"\"Index tensor (x) with indices given by ids\n",
        "    Args:\n",
        "        x: input sequence tensor, can be 2D (batch x length) or 3D (batch x length x feature)\n",
        "        ids: 2D indices (batch x length) for re-indexing the sequence tensor\n",
        "    \"\"\"\n",
        "    if len(x.shape) == 3:\n",
        "        ids = ids.unsqueeze(-1).expand(-1, -1, x.shape[-1])\n",
        "    return torch.take_along_dim(x, ids, dim=1)\n",
        "\n",
        "def random_masking(x, keep_length, ids_shuffle):\n",
        "    \"\"\"Apply random masking on input tensor\n",
        "    Args:\n",
        "        x: input patches (batch x length x feature)\n",
        "        keep_length: length of unmasked patches\n",
        "        ids_shuffle: random indices for shuffling the input sequence \n",
        "    Returns:\n",
        "        kept: unmasked part of x\n",
        "        mask: a 2D (batch x length) mask tensor of 0s and 1s indicated which\n",
        "            part of x is masked out. The value 0 indicates not masked and 1\n",
        "            indicates masked.\n",
        "        ids_restore: indices to restore x. If we take the kept part and masked\n",
        "            part of x, concatentate them together and index it with ids_restore,\n",
        "            we should get x back.\n",
        "\n",
        "    Hint:\n",
        "        ids_shuffle contains the indices used to shuffle the sequence (patches).\n",
        "        You should use the provided index_sequence function to re-index the\n",
        "        sequence, and keep the first keep_length number of patches.\n",
        "    \"\"\"\n",
        "    # BEGIN YOUR CODE\n",
        "    x = index_sequence(x, ids_shuffle[:, :keep_length])    \n",
        "    ids_restore = torch.argsort(ids_shuffle, dim=1)\n",
        "\n",
        "    mask = torch.ones_like(ids_restore) \n",
        "    mask[:, :keep_length] = 0\n",
        "    mask = torch.gather(mask, dim=1, index=ids_restore)\n",
        "\n",
        "    return x, mask, ids_restore\n",
        "    # END YOUR CODE\n",
        "\n",
        "def restore_masked(kept_x, masked_x, ids_restore):\n",
        "    \"\"\"Restore masked patches\n",
        "    Args:\n",
        "        kept_x: unmasked patches\n",
        "        masked_x: masked patches\n",
        "        ids_restore: indices to restore x\n",
        "    Returns:\n",
        "        restored patches\n",
        "    \"\"\"\n",
        "    # BEGIN YOUR CODE\n",
        "    x = torch.cat((kept_x,masked_x),dim=1)\n",
        "    x = index_sequence(x, ids_restore)\n",
        "    return x\n",
        "    # END YOUR CODE"
      ]
    },
    {
      "cell_type": "code",
      "execution_count": null,
      "metadata": {
        "cellView": "form",
        "colab": {
          "background_save": true,
          "base_uri": "https://localhost:8080/"
        },
        "id": "QxXqQ6Qk9FLX",
        "outputId": "7941c64b-f76d-4953-db20-4e4cfda7e5e8"
      },
      "outputs": [
        {
          "name": "stdout",
          "output_type": "stream",
          "text": [
            "The relative error for random_masking: kept is 0.0\n",
            "The relative error for random_masking: mask is 0.0\n",
            "The relative error for random_masking: ids_restore is 0.0\n",
            "The relative error for restore_masked is 0.0\n"
          ]
        }
      ],
      "source": [
        "#@title Test your implementation\n",
        "x, ids_shuffle = test_data['input']['random_masking']\n",
        "kept, mask, ids_restore = random_masking(x, 4, ids_shuffle)\n",
        "kept_t, mask_t, ids_restore_t = test_data['output']['random_masking']\n",
        "check_error('random_masking: kept', kept, kept_t)\n",
        "check_error('random_masking: mask', mask, mask_t)\n",
        "check_error('random_masking: ids_restore', ids_restore, ids_restore_t)\n",
        "\n",
        "x, ids_shuffle = auto_grader_data['input']['random_masking']\n",
        "kept, mask, ids_restore = random_masking(x, 4, ids_shuffle)\n",
        "auto_grader_data['output']['random_masking'] = (kept, mask, ids_restore)\n",
        "save_auto_grader_data()\n",
        "\n",
        "kept_x, masked_x, ids_restore = test_data['input']['restore_masked']\n",
        "restored = restore_masked(kept_x, masked_x, ids_restore)\n",
        "check_error('restore_masked', restored, test_data['output']['restore_masked'])\n",
        "\n",
        "kept_x, masked_x, ids_restore = auto_grader_data['input']['restore_masked']\n",
        "restored = restore_masked(kept_x, masked_x, ids_restore)\n",
        "auto_grader_data['output']['restore_masked'] = (kept, mask, ids_restore)\n",
        "save_auto_grader_data()"
      ]
    },
    {
      "cell_type": "code",
      "execution_count": null,
      "metadata": {
        "colab": {
          "background_save": true
        },
        "id": "9ud7I0SXK0mk"
      },
      "outputs": [],
      "source": [
        "class MaskedAutoEncoder(nn.Module):\n",
        "    \"\"\"MAE Encoder\n",
        "    Args:\n",
        "        encoder: vit encoder\n",
        "        decoder: vit decoder\n",
        "        encoder_embedding_dim: embedding size of encoder\n",
        "        decoder_embedding_dim: embedding size of decoder\n",
        "        patch_size: image patch size\n",
        "        num_patches: number of patches\n",
        "        mask_ratio: percentage of masked patches\n",
        "    \"\"\"\n",
        "    def __init__(self, encoder, decoder, encoder_embedding_dim=256, \n",
        "                 decoder_embedding_dim=128, patch_size=4, num_patches=8,\n",
        "                 mask_ratio=0.75):\n",
        "        super().__init__()\n",
        "        self.encoder_embedding_dim = encoder_embedding_dim\n",
        "        self.decoder_embedding_dim = decoder_embedding_dim\n",
        "        self.patch_size = patch_size\n",
        "        self.num_patches = num_patches\n",
        "        self.mask_ratio = mask_ratio\n",
        "\n",
        "        self.masked_length = int(num_patches * num_patches * mask_ratio)\n",
        "        self.keep_length = num_patches * num_patches - self.masked_length\n",
        "\n",
        "        self.encoder = encoder\n",
        "        self.decoder = decoder\n",
        "\n",
        "        self.encoder_input_projection = nn.Linear(patch_size * patch_size * 3, encoder_embedding_dim)\n",
        "        self.decoder_input_projection = nn.Linear(encoder_embedding_dim, decoder_embedding_dim)\n",
        "        self.decoder_output_projection = nn.Linear(decoder_embedding_dim, patch_size * patch_size * 3)\n",
        "        self.cls_token = nn.Parameter(torch.randn(1, 1, encoder_embedding_dim) * 0.02)\n",
        "        self.encoder_position_encoding = nn.Parameter(torch.randn(1, num_patches * num_patches, encoder_embedding_dim) * 0.02)\n",
        "        self.decoder_position_encoding = nn.Parameter(torch.randn(1, num_patches * num_patches, decoder_embedding_dim) * 0.02)\n",
        "        self.masked_tokens = nn.Parameter(torch.randn(1, 1, decoder_embedding_dim) * 0.02)\n",
        "\n",
        "    def forward_encoder(self, images, ids_shuffle=None):\n",
        "        \"\"\"Encode input images\n",
        "        You should implement the following steps\n",
        "        (1) patchify images into patches\n",
        "        (2) linear projection\n",
        "        (3) add position encoding\n",
        "        (4) concatenate cls_token and patches embedding and pass it to vit encoder\n",
        "        \"\"\"\n",
        "        batch_size = images.shape[0]\n",
        "        # Generate random shuffling indices\n",
        "        if ids_shuffle is None:\n",
        "            ids_shuffle = torch.argsort(\n",
        "                torch.rand(\n",
        "                    (batch_size, self.num_patches * self.num_patches),\n",
        "                    device=images.device\n",
        "                ),\n",
        "                dim=1\n",
        "            )\n",
        "        # BEGIN YOUR CODE\n",
        "        \n",
        "        x = patchify(images, self.patch_size)\n",
        "        x = self.encoder_input_projection(x)\n",
        "        x = x + self.encoder_position_encoding\n",
        "        x, mask, ids_restore = random_masking(x, self.keep_length, ids_shuffle)\n",
        "\n",
        "        c = self.cls_token.repeat(x.shape[0], 1, 1)\n",
        "        x = torch.cat([c, x], dim=1)\n",
        "\n",
        "        x = self.encoder(x)\n",
        "        return x, mask, ids_restore\n",
        "        # END YOUR CODE\n",
        "\n",
        "    def forward_decoder(self, encoder_embeddings, ids_restore):\n",
        "        \"\"\"Decode encoder embeddings\n",
        "        You should implement the following steps\n",
        "        (1) linear projection of encoder embeddings\n",
        "        (2) restore sequence from masked_patches and encoder predictions\n",
        "        (3) add position encoding\n",
        "        (3) readd/use CLS token and decode using ViT decoder \n",
        "        (4) projection to predict image patches\n",
        "        \"\"\"\n",
        "        # BEGIN YOUR CODE\n",
        "        x = self.decoder_input_projection(encoder_embeddings)\n",
        "        x_cls = x[:,0,:]\n",
        "        x = x[:,1:,:]\n",
        "        masked_tokens = self.masked_tokens.repeat(x.shape[0], ids_restore.shape[1] - x.shape[1], 1)\n",
        "        x = restore_masked(x, masked_tokens, ids_restore)\n",
        "        x = x + self.decoder_position_encoding\n",
        "\n",
        "        x = torch.cat([x_cls.unsqueeze(1), x], dim=1)\n",
        "        x = self.decoder(x)\n",
        "        x = x[:,1:,]\n",
        "        x = self.decoder_output_projection(x)\n",
        "        return x\n",
        "        # END YOUR CODE\n",
        "\n",
        "    def forward(self, images):\n",
        "        encoder_output, mask, ids_restore = self.forward_encoder(images)\n",
        "        decoder_output = self.forward_decoder(encoder_output, ids_restore)\n",
        "        return decoder_output, mask\n",
        "\n",
        "    def forward_encoder_representation(self, images):\n",
        "        \"\"\"Encode images without applying random masking to get representation\n",
        "        of input images. \n",
        "\n",
        "        You should implement splitting images into patches, readd/use CLS token,\n",
        "        and encoding with ViT encoder.\n",
        "        \"\"\"\n",
        "        # BEGIN YOUR CODE\n",
        "        x = patchify(images, self.patch_size)\n",
        "        x = self.encoder_input_projection(x)\n",
        "        x = x + self.encoder_position_encoding\n",
        "        c = self.cls_token.repeat(x.shape[0], 1, 1)\n",
        "        x = torch.cat([c, x], dim=1)\n",
        "        x = self.encoder(x)\n",
        "        return x\n",
        "        # END YOUR CODE\n",
        "        "
      ]
    },
    {
      "cell_type": "code",
      "execution_count": null,
      "metadata": {
        "cellView": "form",
        "colab": {
          "background_save": true,
          "base_uri": "https://localhost:8080/"
        },
        "id": "obJhGP5vfaBl",
        "outputId": "b019c5ae-ae9b-4561-b021-0b107889c4b6"
      },
      "outputs": [
        {
          "name": "stdout",
          "output_type": "stream",
          "text": [
            "The relative error for MaskedAutoEncoder.forward_encoder: encoder_embeddings is 0.0\n",
            "The relative error for MaskedAutoEncoder.forward_encoder: mask is 0.0\n",
            "The relative error for MaskedAutoEncoder.forward_encoder: ids_restore is 0.0\n",
            "The relative error for MaskedAutoEncoder.forward_decoder is 0.0\n",
            "The relative error for MaskedAutoEncoder.forward_encoder_representation is 0.0\n"
          ]
        }
      ],
      "source": [
        "#@title Test your implementation\n",
        "model = MaskedAutoEncoder(\n",
        "    Transformer(embedding_dim=256, n_layers=4),\n",
        "    Transformer(embedding_dim=128, n_layers=2),\n",
        ")\n",
        "\n",
        "model.load_state_dict(test_data['weights']['MaskedAutoEncoder'])\n",
        "images, ids_shuffle = test_data['input']['MaskedAutoEncoder.forward_encoder']\n",
        "encoder_embeddings_t, mask_t, ids_restore_t = test_data['output']['MaskedAutoEncoder.forward_encoder']\n",
        "encoder_embeddings, mask, ids_restore = model.forward_encoder(\n",
        "    images, ids_shuffle\n",
        ")\n",
        "\n",
        "check_error(\n",
        "    'MaskedAutoEncoder.forward_encoder: encoder_embeddings',\n",
        "    encoder_embeddings, encoder_embeddings_t\n",
        ")\n",
        "check_error(\n",
        "    'MaskedAutoEncoder.forward_encoder: mask',\n",
        "    mask, mask_t\n",
        ")\n",
        "check_error(\n",
        "    'MaskedAutoEncoder.forward_encoder: ids_restore',\n",
        "    ids_restore, ids_restore_t\n",
        ")\n",
        "\n",
        "encoder_embeddings, ids_restore = test_data['input']['MaskedAutoEncoder.forward_decoder']\n",
        "decoder_output_t = test_data['output']['MaskedAutoEncoder.forward_decoder']\n",
        "decoder_output = model.forward_decoder(encoder_embeddings, ids_restore)\n",
        "check_error(\n",
        "    'MaskedAutoEncoder.forward_decoder',\n",
        "    decoder_output,\n",
        "    decoder_output_t\n",
        ")\n",
        "\n",
        "images = test_data['input']['MaskedAutoEncoder.forward_encoder_representation']\n",
        "encoder_representations_t = test_data['output']['MaskedAutoEncoder.forward_encoder_representation']\n",
        "encoder_representations = model.forward_encoder_representation(images)\n",
        "check_error(\n",
        "    'MaskedAutoEncoder.forward_encoder_representation',\n",
        "    encoder_representations,\n",
        "    encoder_representations_t\n",
        ")\n",
        "\n",
        "\n",
        "\n",
        "model = MaskedAutoEncoder(\n",
        "    Transformer(embedding_dim=256, n_layers=4),\n",
        "    Transformer(embedding_dim=128, n_layers=2),\n",
        ")\n",
        "\n",
        "model.load_state_dict(auto_grader_data['weights']['MaskedAutoEncoder'])\n",
        "images, ids_shuffle = auto_grader_data['input']['MaskedAutoEncoder.forward_encoder']\n",
        "auto_grader_data['output']['MaskedAutoEncoder.forward_encoder'] = model.forward_encoder(\n",
        "    images, ids_shuffle\n",
        ")\n",
        "\n",
        "encoder_embeddings, ids_restore = auto_grader_data['input']['MaskedAutoEncoder.forward_decoder']\n",
        "auto_grader_data['output']['MaskedAutoEncoder.forward_decoder'] = model.forward_decoder(encoder_embeddings, ids_restore)\n",
        "\n",
        "images = auto_grader_data['input']['MaskedAutoEncoder.forward_encoder_representation']\n",
        "auto_grader_data['output']['MaskedAutoEncoder.forward_encoder_representation'] = model.forward_encoder_representation(images)\n",
        "save_auto_grader_data()\n"
      ]
    },
    {
      "cell_type": "markdown",
      "metadata": {
        "id": "t4KO8ZzAOyJ_"
      },
      "source": [
        "### Train Masked Autoencoder"
      ]
    },
    {
      "cell_type": "code",
      "execution_count": null,
      "metadata": {
        "colab": {
          "background_save": true,
          "base_uri": "https://localhost:8080/",
          "height": 1000,
          "referenced_widgets": [
            "88b726c5f2ca43c487590162caa04f9d",
            "37e4830dae9b419bb3437dd12424d52d",
            "204f64baa355450fb12def25f68d154a",
            "7349c1f43b4645bd9ac300646813631a",
            "53ddcd6c51b64a4aa901d631a225e6ca",
            "655c872b5b414c23a295c5d8eb570091",
            "77c9e97a24e3474495fbab20e08f141d",
            "8e9dd97b720b42aea995ea479a58077e",
            "13ea701d86094b13baca8573182ba1f6",
            "b81aafde5ad74c23bcdeb173e1f471ea",
            "254ca02343e94e6e9fc0bdf028465b74",
            "4e4b5ef97c964fa195ea57552e259e32",
            "76d4ab0df45b4291ac01ce0f6cd6d5c4",
            "1a3b36f341d74ab49fc58c1eb5035b4f",
            "462e10bbf2974304895df26ea3c61062",
            "2ec2d2c1357b4706858ca9c2191912ab",
            "bc7f5fa5810d4729b82a9f9d8234d75d",
            "32cef6e49d094518b11b9777f19bef6f",
            "68637446df9d41c3bfd5b80648a8ed90",
            "73bb53fe4ec44e048a0886ca09c63c25",
            "abc6d346c0b5495994754b7c1babfd2d"
          ]
        },
        "id": "A3WJB5fLqSbl",
        "outputId": "a92163d2-6070-402f-b07d-b6d3167c1873"
      },
      "outputs": [
        {
          "data": {
            "application/vnd.jupyter.widget-view+json": {
              "model_id": "88b726c5f2ca43c487590162caa04f9d",
              "version_major": 2,
              "version_minor": 0
            },
            "text/plain": [
              "  0%|          | 0/20 [00:00<?, ?it/s]"
            ]
          },
          "metadata": {},
          "output_type": "display_data"
        },
        {
          "data": {
            "application/vnd.jupyter.widget-view+json": {
              "model_id": "37e4830dae9b419bb3437dd12424d52d",
              "version_major": 2,
              "version_minor": 0
            },
            "text/plain": [
              "  0%|          | 0/391 [00:00<?, ?it/s]"
            ]
          },
          "metadata": {},
          "output_type": "display_data"
        },
        {
          "data": {
            "application/vnd.jupyter.widget-view+json": {
              "model_id": "204f64baa355450fb12def25f68d154a",
              "version_major": 2,
              "version_minor": 0
            },
            "text/plain": [
              "  0%|          | 0/391 [00:00<?, ?it/s]"
            ]
          },
          "metadata": {},
          "output_type": "display_data"
        },
        {
          "data": {
            "application/vnd.jupyter.widget-view+json": {
              "model_id": "7349c1f43b4645bd9ac300646813631a",
              "version_major": 2,
              "version_minor": 0
            },
            "text/plain": [
              "  0%|          | 0/391 [00:00<?, ?it/s]"
            ]
          },
          "metadata": {},
          "output_type": "display_data"
        },
        {
          "data": {
            "application/vnd.jupyter.widget-view+json": {
              "model_id": "53ddcd6c51b64a4aa901d631a225e6ca",
              "version_major": 2,
              "version_minor": 0
            },
            "text/plain": [
              "  0%|          | 0/391 [00:00<?, ?it/s]"
            ]
          },
          "metadata": {},
          "output_type": "display_data"
        },
        {
          "data": {
            "application/vnd.jupyter.widget-view+json": {
              "model_id": "655c872b5b414c23a295c5d8eb570091",
              "version_major": 2,
              "version_minor": 0
            },
            "text/plain": [
              "  0%|          | 0/391 [00:00<?, ?it/s]"
            ]
          },
          "metadata": {},
          "output_type": "display_data"
        },
        {
          "data": {
            "application/vnd.jupyter.widget-view+json": {
              "model_id": "77c9e97a24e3474495fbab20e08f141d",
              "version_major": 2,
              "version_minor": 0
            },
            "text/plain": [
              "  0%|          | 0/391 [00:00<?, ?it/s]"
            ]
          },
          "metadata": {},
          "output_type": "display_data"
        },
        {
          "data": {
            "application/vnd.jupyter.widget-view+json": {
              "model_id": "8e9dd97b720b42aea995ea479a58077e",
              "version_major": 2,
              "version_minor": 0
            },
            "text/plain": [
              "  0%|          | 0/391 [00:00<?, ?it/s]"
            ]
          },
          "metadata": {},
          "output_type": "display_data"
        },
        {
          "data": {
            "application/vnd.jupyter.widget-view+json": {
              "model_id": "13ea701d86094b13baca8573182ba1f6",
              "version_major": 2,
              "version_minor": 0
            },
            "text/plain": [
              "  0%|          | 0/391 [00:00<?, ?it/s]"
            ]
          },
          "metadata": {},
          "output_type": "display_data"
        },
        {
          "data": {
            "application/vnd.jupyter.widget-view+json": {
              "model_id": "b81aafde5ad74c23bcdeb173e1f471ea",
              "version_major": 2,
              "version_minor": 0
            },
            "text/plain": [
              "  0%|          | 0/391 [00:00<?, ?it/s]"
            ]
          },
          "metadata": {},
          "output_type": "display_data"
        },
        {
          "data": {
            "application/vnd.jupyter.widget-view+json": {
              "model_id": "254ca02343e94e6e9fc0bdf028465b74",
              "version_major": 2,
              "version_minor": 0
            },
            "text/plain": [
              "  0%|          | 0/391 [00:00<?, ?it/s]"
            ]
          },
          "metadata": {},
          "output_type": "display_data"
        },
        {
          "data": {
            "application/vnd.jupyter.widget-view+json": {
              "model_id": "4e4b5ef97c964fa195ea57552e259e32",
              "version_major": 2,
              "version_minor": 0
            },
            "text/plain": [
              "  0%|          | 0/391 [00:00<?, ?it/s]"
            ]
          },
          "metadata": {},
          "output_type": "display_data"
        },
        {
          "data": {
            "application/vnd.jupyter.widget-view+json": {
              "model_id": "76d4ab0df45b4291ac01ce0f6cd6d5c4",
              "version_major": 2,
              "version_minor": 0
            },
            "text/plain": [
              "  0%|          | 0/391 [00:00<?, ?it/s]"
            ]
          },
          "metadata": {},
          "output_type": "display_data"
        },
        {
          "data": {
            "application/vnd.jupyter.widget-view+json": {
              "model_id": "1a3b36f341d74ab49fc58c1eb5035b4f",
              "version_major": 2,
              "version_minor": 0
            },
            "text/plain": [
              "  0%|          | 0/391 [00:00<?, ?it/s]"
            ]
          },
          "metadata": {},
          "output_type": "display_data"
        },
        {
          "data": {
            "application/vnd.jupyter.widget-view+json": {
              "model_id": "462e10bbf2974304895df26ea3c61062",
              "version_major": 2,
              "version_minor": 0
            },
            "text/plain": [
              "  0%|          | 0/391 [00:00<?, ?it/s]"
            ]
          },
          "metadata": {},
          "output_type": "display_data"
        },
        {
          "data": {
            "application/vnd.jupyter.widget-view+json": {
              "model_id": "2ec2d2c1357b4706858ca9c2191912ab",
              "version_major": 2,
              "version_minor": 0
            },
            "text/plain": [
              "  0%|          | 0/391 [00:00<?, ?it/s]"
            ]
          },
          "metadata": {},
          "output_type": "display_data"
        },
        {
          "data": {
            "application/vnd.jupyter.widget-view+json": {
              "model_id": "bc7f5fa5810d4729b82a9f9d8234d75d",
              "version_major": 2,
              "version_minor": 0
            },
            "text/plain": [
              "  0%|          | 0/391 [00:00<?, ?it/s]"
            ]
          },
          "metadata": {},
          "output_type": "display_data"
        },
        {
          "data": {
            "application/vnd.jupyter.widget-view+json": {
              "model_id": "32cef6e49d094518b11b9777f19bef6f",
              "version_major": 2,
              "version_minor": 0
            },
            "text/plain": [
              "  0%|          | 0/391 [00:00<?, ?it/s]"
            ]
          },
          "metadata": {},
          "output_type": "display_data"
        },
        {
          "data": {
            "application/vnd.jupyter.widget-view+json": {
              "model_id": "68637446df9d41c3bfd5b80648a8ed90",
              "version_major": 2,
              "version_minor": 0
            },
            "text/plain": [
              "  0%|          | 0/391 [00:00<?, ?it/s]"
            ]
          },
          "metadata": {},
          "output_type": "display_data"
        },
        {
          "data": {
            "application/vnd.jupyter.widget-view+json": {
              "model_id": "73bb53fe4ec44e048a0886ca09c63c25",
              "version_major": 2,
              "version_minor": 0
            },
            "text/plain": [
              "  0%|          | 0/391 [00:00<?, ?it/s]"
            ]
          },
          "metadata": {},
          "output_type": "display_data"
        },
        {
          "data": {
            "application/vnd.jupyter.widget-view+json": {
              "model_id": "abc6d346c0b5495994754b7c1babfd2d",
              "version_major": 2,
              "version_minor": 0
            },
            "text/plain": [
              "  0%|          | 0/391 [00:00<?, ?it/s]"
            ]
          },
          "metadata": {},
          "output_type": "display_data"
        },
        {
          "data": {
            "text/plain": [
              "Text(0.5, 1.0, 'MAE Train Loss')"
            ]
          },
          "execution_count": null,
          "metadata": {},
          "output_type": "execute_result"
        },
        {
          "data": {
            "image/png": "[encoded data removed]",
            "text/plain": [
              "<Figure size 432x288 with 1 Axes>"
            ]
          },
          "metadata": {},
          "output_type": "display_data"
        }
      ],
      "source": [
        "# Initilize MAE model\n",
        "model = MaskedAutoEncoder(\n",
        "    Transformer(embedding_dim=256, n_layers=4),\n",
        "    Transformer(embedding_dim=128, n_layers=2),\n",
        ")\n",
        "# Move the model to GPU\n",
        "model.to(torch_device)\n",
        "# Create optimizer\n",
        "\n",
        "# You may want to tune these hyperparameters to get better performance\n",
        "optimizer = optim.AdamW(model.parameters(), lr=1e-4, betas=(0.9, 0.95), weight_decay=0.05)\n",
        "\n",
        "total_steps = 0\n",
        "num_epochs = 20\n",
        "train_logfreq = 100\n",
        "\n",
        "losses = []\n",
        "\n",
        "epoch_iterator = trange(num_epochs)\n",
        "for epoch in epoch_iterator:\n",
        "    # Train\n",
        "    data_iterator = tqdm(trainloader)\n",
        "    for x, y in data_iterator:\n",
        "        total_steps += 1\n",
        "        x = x.to(torch_device)\n",
        "        image_patches = patchify(x)\n",
        "        predicted_patches, mask = model(x)\n",
        "        loss = torch.sum(torch.mean(torch.square(image_patches - predicted_patches), dim=-1) * mask) / mask.sum()\n",
        "        optimizer.zero_grad()\n",
        "        loss.backward()\n",
        "        optimizer.step()\n",
        "\n",
        "        data_iterator.set_postfix(loss=loss.item())\n",
        "        if total_steps % train_logfreq == 0:\n",
        "            losses.append(loss.item())\n",
        "\n",
        "    # Periodically save model\n",
        "    torch.save(model.state_dict(), os.path.join(root_folder, \"mae_pretrained.pt\"))\n",
        "\n",
        "plt.plot(losses)\n",
        "plt.title('MAE Train Loss')"
      ]
    },
    {
      "cell_type": "markdown",
      "metadata": {
        "id": "-UV8dPF8Pw4k"
      },
      "source": [
        "### Use pretrained MAE model for classification\n",
        "\n",
        "As ViT has a class token, to adapt to this design, in our MAE pre-training we append an auxiliary dummy token to the encoder input. This token will be treated as the class token for training the classifier in linear probing and fine-tuning."
      ]
    },
    {
      "cell_type": "code",
      "execution_count": null,
      "metadata": {
        "colab": {
          "background_save": true
        },
        "id": "QODCykcJS0ec"
      },
      "outputs": [],
      "source": [
        "class ClassificationMAE(nn.Module):\n",
        "    \"\"\"A linear classifier is trained on self-supervised representations learned by MAE. \n",
        "    Args:\n",
        "        n_classes: number of classes\n",
        "        mae: mae model\n",
        "        embedding_dim: embedding dimension of mae output\n",
        "        detach: if True, only the classification head is updated.\n",
        "    \"\"\"\n",
        "    def __init__(self, n_classes, mae, embedding_dim=256, detach=False):\n",
        "        super().__init__()\n",
        "        self.embedding_dim = embedding_dim\n",
        "        self.mae = mae\n",
        "        self.output_head = nn.Sequential(\n",
        "            nn.LayerNorm(embedding_dim), nn.Linear(embedding_dim, n_classes)\n",
        "        )\n",
        "        \"\"\"\n",
        "        When self.detach=True, use linear classification, when self.detach=False,\n",
        "        use full finetuning.\n",
        "        \"\"\"\n",
        "        self.detach = detach\n",
        "\n",
        "    def forward(self, images):\n",
        "        # BEGIN YOUR CODE\n",
        "        \n",
        "        x = self.mae.forward_encoder_representation(images)\n",
        "        if self.detach:\n",
        "          x = x.detach()\n",
        "        x = x[:,0,:]\n",
        "        x = self.output_head(x)\n",
        "        return x\n",
        "        # END YOUR CODE"
      ]
    },
    {
      "cell_type": "code",
      "execution_count": null,
      "metadata": {
        "cellView": "form",
        "colab": {
          "background_save": true
        },
        "id": "Fi07CiNMt-pX",
        "outputId": "746625f5-ea05-4d6f-eefd-a997087cb155"
      },
      "outputs": [
        {
          "name": "stdout",
          "output_type": "stream",
          "text": [
            "The relative error for ClassificationMAE.forward is 0.0\n"
          ]
        }
      ],
      "source": [
        "#@title Test your implementation\n",
        "model = ClassificationMAE(\n",
        "    10,\n",
        "    MaskedAutoEncoder(\n",
        "        Transformer(embedding_dim=256, n_layers=4),\n",
        "        Transformer(embedding_dim=128, n_layers=2),\n",
        "    )\n",
        ")\n",
        "\n",
        "model.load_state_dict(test_data['weights']['ClassificationMAE'])\n",
        "\n",
        "check_error(\n",
        "    'ClassificationMAE.forward',\n",
        "    model(test_data['input']['ClassificationMAE.forward']),\n",
        "    test_data['output']['ClassificationMAE.forward']\n",
        ")\n",
        "\n",
        "model = ClassificationMAE(\n",
        "    10,\n",
        "    MaskedAutoEncoder(\n",
        "        Transformer(embedding_dim=256, n_layers=4),\n",
        "        Transformer(embedding_dim=128, n_layers=2),\n",
        "    )\n",
        ")\n",
        "\n",
        "model.load_state_dict(auto_grader_data['weights']['ClassificationMAE'])\n",
        "auto_grader_data['output']['ClassificationMAE.forward'] = model(\n",
        "    auto_grader_data['input']['ClassificationMAE.forward']\n",
        ")\n",
        "save_auto_grader_data()"
      ]
    },
    {
      "cell_type": "markdown",
      "metadata": {
        "id": "0gnCcwGlVJ-g"
      },
      "source": [
        "### Load the pretrained MAE model"
      ]
    },
    {
      "cell_type": "code",
      "execution_count": null,
      "metadata": {
        "colab": {
          "background_save": true
        },
        "id": "DdQEIE_yYuJF",
        "outputId": "95894f72-bad5-4ff3-f2d6-be355a26387d"
      },
      "outputs": [
        {
          "data": {
            "text/plain": [
              "<All keys matched successfully>"
            ]
          },
          "execution_count": null,
          "metadata": {},
          "output_type": "execute_result"
        }
      ],
      "source": [
        "mae = MaskedAutoEncoder(\n",
        "    Transformer(embedding_dim=256, n_layers=4),\n",
        "    Transformer(embedding_dim=128, n_layers=2),\n",
        ")\n",
        "mae.load_state_dict(torch.load(os.path.join(root_folder, \"mae_pretrained.pt\")))"
      ]
    },
    {
      "cell_type": "markdown",
      "metadata": {
        "id": "AyLwLC6VPz2Y"
      },
      "source": [
        "### Linear Classification\n",
        "\n",
        "A linear classifier is trained on self-supervised representations learned by MAE. "
      ]
    },
    {
      "cell_type": "code",
      "execution_count": null,
      "metadata": {
        "colab": {
          "background_save": true,
          "referenced_widgets": [
            "c1b6f552dfe440c495513d6ce0463ae9",
            "4fe6e3500199439486d04ffdcbac6c9d",
            "d2a46b5061fa4bd6a5d870bbc764dfc5",
            "d5ae5cdc9ca34087b151d42425518d1d",
            "7a1abd2972b8415eba9b8b19326fb321",
            "995a06047a0748afaec4ed10215eebf0",
            "aadf10913e924e2aa36d1d09692dc266",
            "b9140a0ba0ec4d0a871a8c4c2ecb1bce",
            "6f4d86e73c8b4404b1290731ea694569",
            "c591fdddea6940e78680aabb06c9e76e",
            "90628dca438a4d1f89b05eea1b7035db",
            "e24ca421db1740b98ce147c4eb9da3c3",
            "aee153f58e3f427681fe06eede4b5220",
            "967416d51e6b4f0db9ed9bebcc8e2e18",
            "3e933089ffb047eeade7344df2636e41",
            "751e3caa2fc448aa92bf09561ad8952f",
            "d466cc2f599e43518cd8007efdfa63b8",
            "2d127753b17042559cb264a473aa9c90",
            "5d05f007dd4a4588957e48ad33ad7b72",
            "277041f804c04665a1cc0e5d32d1b7b1",
            "03d712d52cec4d3d9e5c36cbd6e18682"
          ]
        },
        "id": "KdPfl0MJrfng",
        "outputId": "70feb7db-61b9-438f-dfe5-e7fe63c05aaa"
      },
      "outputs": [
        {
          "data": {
            "application/vnd.jupyter.widget-view+json": {
              "model_id": "c1b6f552dfe440c495513d6ce0463ae9",
              "version_major": 2,
              "version_minor": 0
            },
            "text/plain": [
              "  0%|          | 0/20 [00:00<?, ?it/s]"
            ]
          },
          "metadata": {},
          "output_type": "display_data"
        },
        {
          "data": {
            "application/vnd.jupyter.widget-view+json": {
              "model_id": "4fe6e3500199439486d04ffdcbac6c9d",
              "version_major": 2,
              "version_minor": 0
            },
            "text/plain": [
              "  0%|          | 0/391 [00:00<?, ?it/s]"
            ]
          },
          "metadata": {},
          "output_type": "display_data"
        },
        {
          "data": {
            "application/vnd.jupyter.widget-view+json": {
              "model_id": "d2a46b5061fa4bd6a5d870bbc764dfc5",
              "version_major": 2,
              "version_minor": 0
            },
            "text/plain": [
              "  0%|          | 0/391 [00:00<?, ?it/s]"
            ]
          },
          "metadata": {},
          "output_type": "display_data"
        },
        {
          "data": {
            "application/vnd.jupyter.widget-view+json": {
              "model_id": "d5ae5cdc9ca34087b151d42425518d1d",
              "version_major": 2,
              "version_minor": 0
            },
            "text/plain": [
              "  0%|          | 0/391 [00:00<?, ?it/s]"
            ]
          },
          "metadata": {},
          "output_type": "display_data"
        },
        {
          "data": {
            "application/vnd.jupyter.widget-view+json": {
              "model_id": "7a1abd2972b8415eba9b8b19326fb321",
              "version_major": 2,
              "version_minor": 0
            },
            "text/plain": [
              "  0%|          | 0/391 [00:00<?, ?it/s]"
            ]
          },
          "metadata": {},
          "output_type": "display_data"
        },
        {
          "data": {
            "application/vnd.jupyter.widget-view+json": {
              "model_id": "995a06047a0748afaec4ed10215eebf0",
              "version_major": 2,
              "version_minor": 0
            },
            "text/plain": [
              "  0%|          | 0/391 [00:00<?, ?it/s]"
            ]
          },
          "metadata": {},
          "output_type": "display_data"
        },
        {
          "data": {
            "application/vnd.jupyter.widget-view+json": {
              "model_id": "aadf10913e924e2aa36d1d09692dc266",
              "version_major": 2,
              "version_minor": 0
            },
            "text/plain": [
              "  0%|          | 0/391 [00:00<?, ?it/s]"
            ]
          },
          "metadata": {},
          "output_type": "display_data"
        },
        {
          "data": {
            "application/vnd.jupyter.widget-view+json": {
              "model_id": "b9140a0ba0ec4d0a871a8c4c2ecb1bce",
              "version_major": 2,
              "version_minor": 0
            },
            "text/plain": [
              "  0%|          | 0/391 [00:00<?, ?it/s]"
            ]
          },
          "metadata": {},
          "output_type": "display_data"
        },
        {
          "data": {
            "application/vnd.jupyter.widget-view+json": {
              "model_id": "6f4d86e73c8b4404b1290731ea694569",
              "version_major": 2,
              "version_minor": 0
            },
            "text/plain": [
              "  0%|          | 0/391 [00:00<?, ?it/s]"
            ]
          },
          "metadata": {},
          "output_type": "display_data"
        },
        {
          "data": {
            "application/vnd.jupyter.widget-view+json": {
              "model_id": "c591fdddea6940e78680aabb06c9e76e",
              "version_major": 2,
              "version_minor": 0
            },
            "text/plain": [
              "  0%|          | 0/391 [00:00<?, ?it/s]"
            ]
          },
          "metadata": {},
          "output_type": "display_data"
        },
        {
          "data": {
            "application/vnd.jupyter.widget-view+json": {
              "model_id": "90628dca438a4d1f89b05eea1b7035db",
              "version_major": 2,
              "version_minor": 0
            },
            "text/plain": [
              "  0%|          | 0/391 [00:00<?, ?it/s]"
            ]
          },
          "metadata": {},
          "output_type": "display_data"
        },
        {
          "data": {
            "application/vnd.jupyter.widget-view+json": {
              "model_id": "e24ca421db1740b98ce147c4eb9da3c3",
              "version_major": 2,
              "version_minor": 0
            },
            "text/plain": [
              "  0%|          | 0/391 [00:00<?, ?it/s]"
            ]
          },
          "metadata": {},
          "output_type": "display_data"
        },
        {
          "data": {
            "application/vnd.jupyter.widget-view+json": {
              "model_id": "aee153f58e3f427681fe06eede4b5220",
              "version_major": 2,
              "version_minor": 0
            },
            "text/plain": [
              "  0%|          | 0/391 [00:00<?, ?it/s]"
            ]
          },
          "metadata": {},
          "output_type": "display_data"
        },
        {
          "data": {
            "application/vnd.jupyter.widget-view+json": {
              "model_id": "967416d51e6b4f0db9ed9bebcc8e2e18",
              "version_major": 2,
              "version_minor": 0
            },
            "text/plain": [
              "  0%|          | 0/391 [00:00<?, ?it/s]"
            ]
          },
          "metadata": {},
          "output_type": "display_data"
        },
        {
          "data": {
            "application/vnd.jupyter.widget-view+json": {
              "model_id": "3e933089ffb047eeade7344df2636e41",
              "version_major": 2,
              "version_minor": 0
            },
            "text/plain": [
              "  0%|          | 0/391 [00:00<?, ?it/s]"
            ]
          },
          "metadata": {},
          "output_type": "display_data"
        },
        {
          "data": {
            "application/vnd.jupyter.widget-view+json": {
              "model_id": "751e3caa2fc448aa92bf09561ad8952f",
              "version_major": 2,
              "version_minor": 0
            },
            "text/plain": [
              "  0%|          | 0/391 [00:00<?, ?it/s]"
            ]
          },
          "metadata": {},
          "output_type": "display_data"
        },
        {
          "data": {
            "application/vnd.jupyter.widget-view+json": {
              "model_id": "d466cc2f599e43518cd8007efdfa63b8",
              "version_major": 2,
              "version_minor": 0
            },
            "text/plain": [
              "  0%|          | 0/391 [00:00<?, ?it/s]"
            ]
          },
          "metadata": {},
          "output_type": "display_data"
        },
        {
          "data": {
            "application/vnd.jupyter.widget-view+json": {
              "model_id": "2d127753b17042559cb264a473aa9c90",
              "version_major": 2,
              "version_minor": 0
            },
            "text/plain": [
              "  0%|          | 0/391 [00:00<?, ?it/s]"
            ]
          },
          "metadata": {},
          "output_type": "display_data"
        },
        {
          "data": {
            "application/vnd.jupyter.widget-view+json": {
              "model_id": "5d05f007dd4a4588957e48ad33ad7b72",
              "version_major": 2,
              "version_minor": 0
            },
            "text/plain": [
              "  0%|          | 0/391 [00:00<?, ?it/s]"
            ]
          },
          "metadata": {},
          "output_type": "display_data"
        },
        {
          "data": {
            "application/vnd.jupyter.widget-view+json": {
              "model_id": "277041f804c04665a1cc0e5d32d1b7b1",
              "version_major": 2,
              "version_minor": 0
            },
            "text/plain": [
              "  0%|          | 0/391 [00:00<?, ?it/s]"
            ]
          },
          "metadata": {},
          "output_type": "display_data"
        },
        {
          "data": {
            "application/vnd.jupyter.widget-view+json": {
              "model_id": "03d712d52cec4d3d9e5c36cbd6e18682",
              "version_major": 2,
              "version_minor": 0
            },
            "text/plain": [
              "  0%|          | 0/391 [00:00<?, ?it/s]"
            ]
          },
          "metadata": {},
          "output_type": "display_data"
        },
        {
          "data": {
            "text/plain": [
              "Text(0.5, 1.0, 'Linear Classification Val Accuracy')"
            ]
          },
          "execution_count": null,
          "metadata": {},
          "output_type": "execute_result"
        },
        {
          "data": {
            "image/png": "[encoded data removed]",
            "text/plain": [
              "<Figure size 432x288 with 1 Axes>"
            ]
          },
          "metadata": {},
          "output_type": "display_data"
        },
        {
          "data": {
            "image/png": "[encoded data removed]",
            "text/plain": [
              "<Figure size 432x288 with 1 Axes>"
            ]
          },
          "metadata": {},
          "output_type": "display_data"
        },
        {
          "data": {
            "image/png": "[encoded data removed]",
            "text/plain": [
              "<Figure size 432x288 with 1 Axes>"
            ]
          },
          "metadata": {},
          "output_type": "display_data"
        }
      ],
      "source": [
        "# Initilize classification model; set detach=True to only update the linear classifier. \n",
        "model = ClassificationMAE(10, mae, detach=True)\n",
        "model.to(torch_device)\n",
        "\n",
        "# You may want to tune these hyperparameters to get better performance\n",
        "optimizer = optim.AdamW(model.parameters(), lr=1e-4, betas=(0.9, 0.95), weight_decay=1e-9)\n",
        "\n",
        "total_steps = 0\n",
        "num_epochs = 20\n",
        "train_logfreq = 100\n",
        "losses = []\n",
        "train_acc = []\n",
        "all_val_acc = []\n",
        "best_val_acc = 0\n",
        "\n",
        "epoch_iterator = trange(num_epochs)\n",
        "for epoch in epoch_iterator:\n",
        "    # Train\n",
        "    data_iterator = tqdm(trainloader)\n",
        "    for x, y in data_iterator:\n",
        "        total_steps += 1\n",
        "        x, y = x.to(torch_device), y.to(torch_device)\n",
        "        logits = model(x)\n",
        "        loss = torch.mean(F.cross_entropy(logits, y))\n",
        "        accuracy = torch.mean((torch.argmax(logits, dim=-1) == y).float())\n",
        "        optimizer.zero_grad()\n",
        "        loss.backward()\n",
        "        optimizer.step()\n",
        "\n",
        "        data_iterator.set_postfix(loss=loss.item(), train_acc=accuracy.item())\n",
        "\n",
        "        if total_steps % train_logfreq == 0:\n",
        "            losses.append(loss.item())\n",
        "            train_acc.append(accuracy.item())\n",
        "\n",
        "    # Validation\n",
        "    val_acc = []\n",
        "    model.eval()\n",
        "    for x, y in testloader:\n",
        "        x, y = x.to(torch_device), y.to(torch_device)\n",
        "        with torch.no_grad():\n",
        "          logits = model(x)\n",
        "        accuracy = torch.mean((torch.argmax(logits, dim=-1) == y).float())\n",
        "        val_acc.append(accuracy.item())\n",
        "\n",
        "    model.train()\n",
        "\n",
        "    all_val_acc.append(np.mean(val_acc))\n",
        "\n",
        "    # Save best model\n",
        "    if np.mean(val_acc) > best_val_acc:\n",
        "        best_val_acc = np.mean(val_acc)\n",
        "\n",
        "    epoch_iterator.set_postfix(val_acc=np.mean(val_acc), best_val_acc=best_val_acc)\n",
        "\n",
        "plt.plot(losses)\n",
        "plt.title('Linear Classification Train Loss')\n",
        "plt.figure()\n",
        "plt.plot(train_acc)\n",
        "plt.title('Linear Classification Train Accuracy')\n",
        "plt.figure()\n",
        "plt.plot(all_val_acc)\n",
        "plt.title('Linear Classification Val Accuracy')"
      ]
    },
    {
      "cell_type": "code",
      "execution_count": null,
      "metadata": {
        "cellView": "form",
        "colab": {
          "background_save": true
        },
        "id": "RwXyr42cDYr3",
        "outputId": "72e2ea3d-9d26-4d7c-eaf4-8aac8898d640"
      },
      "outputs": [
        {
          "name": "stdout",
          "output_type": "stream",
          "text": [
            "The accuracy 0.3530458860759494 is better than threshold accuracy 0.3\n"
          ]
        }
      ],
      "source": [
        "#@title Test your implementation, your accuracy should be greater than 30%\n",
        "auto_grader_data['output']['mae_linear_acc'] = best_val_acc\n",
        "save_auto_grader_data()\n",
        "check_acc(best_val_acc, threshold=0.30)"
      ]
    },
    {
      "cell_type": "markdown",
      "metadata": {
        "id": "frkTBj1wQo_R"
      },
      "source": [
        "### Full Finetuning\n",
        "\n",
        "A linear classifer and the pretrained MAE model are jointly updated."
      ]
    },
    {
      "cell_type": "code",
      "execution_count": null,
      "metadata": {
        "colab": {
          "background_save": true,
          "referenced_widgets": [
            "be012474203a4d81bd9d2484e4af8471",
            "f5a88cf01a584a12ab183942cc903a22",
            "99728d019f1a431db3bf97c9ed451cff",
            "e234ebd7f75443a88d51571a4d967f9d",
            "ac39a4f3d7364b9aa06a8002466c4472",
            "ee5b86bf46924c8d9cb4f5af05cf2512",
            "1b132c87c4b14367b64f614b41061150",
            "a9b7d6b7284a450b92457512d5cc9a84",
            "12d6c91489294c61bbbdd0d0b4bf259a",
            "990bf390232b4aa0abb909f1075f5a4e",
            "be2cf970de3c425b9045d99ead93b19d",
            "1ed2a4921b024d0f9c8759fcf0352086",
            "17a438e2aa9742f693004a3c2ef7a4a4",
            "0fb0f911288f4eafb6c3261768fe9ff2",
            "b8e568b051a04a1aa0f5a31ebd0759c4",
            "8dc4e4e1eabf4069a389acd10b75bbe5",
            "73d1fb768d0b447487011f311ad1c5c3",
            "894dc98be7f04302884e787d91c8434d",
            "1bb1db1b8c184a2e812e0908ad1954ff",
            "0a60865f49414249854c9d8097660490",
            "16930cbf93db42a4aa9aa91ed6e138ed"
          ]
        },
        "id": "dGTMdBgci8PW",
        "outputId": "c8d85f3d-70fb-4046-e2fb-7adb8e22c008"
      },
      "outputs": [
        {
          "data": {
            "application/vnd.jupyter.widget-view+json": {
              "model_id": "be012474203a4d81bd9d2484e4af8471",
              "version_major": 2,
              "version_minor": 0
            },
            "text/plain": [
              "  0%|          | 0/20 [00:00<?, ?it/s]"
            ]
          },
          "metadata": {},
          "output_type": "display_data"
        },
        {
          "data": {
            "application/vnd.jupyter.widget-view+json": {
              "model_id": "f5a88cf01a584a12ab183942cc903a22",
              "version_major": 2,
              "version_minor": 0
            },
            "text/plain": [
              "  0%|          | 0/391 [00:00<?, ?it/s]"
            ]
          },
          "metadata": {},
          "output_type": "display_data"
        },
        {
          "data": {
            "application/vnd.jupyter.widget-view+json": {
              "model_id": "99728d019f1a431db3bf97c9ed451cff",
              "version_major": 2,
              "version_minor": 0
            },
            "text/plain": [
              "  0%|          | 0/391 [00:00<?, ?it/s]"
            ]
          },
          "metadata": {},
          "output_type": "display_data"
        },
        {
          "data": {
            "application/vnd.jupyter.widget-view+json": {
              "model_id": "e234ebd7f75443a88d51571a4d967f9d",
              "version_major": 2,
              "version_minor": 0
            },
            "text/plain": [
              "  0%|          | 0/391 [00:00<?, ?it/s]"
            ]
          },
          "metadata": {},
          "output_type": "display_data"
        },
        {
          "data": {
            "application/vnd.jupyter.widget-view+json": {
              "model_id": "ac39a4f3d7364b9aa06a8002466c4472",
              "version_major": 2,
              "version_minor": 0
            },
            "text/plain": [
              "  0%|          | 0/391 [00:00<?, ?it/s]"
            ]
          },
          "metadata": {},
          "output_type": "display_data"
        },
        {
          "data": {
            "application/vnd.jupyter.widget-view+json": {
              "model_id": "ee5b86bf46924c8d9cb4f5af05cf2512",
              "version_major": 2,
              "version_minor": 0
            },
            "text/plain": [
              "  0%|          | 0/391 [00:00<?, ?it/s]"
            ]
          },
          "metadata": {},
          "output_type": "display_data"
        },
        {
          "data": {
            "application/vnd.jupyter.widget-view+json": {
              "model_id": "1b132c87c4b14367b64f614b41061150",
              "version_major": 2,
              "version_minor": 0
            },
            "text/plain": [
              "  0%|          | 0/391 [00:00<?, ?it/s]"
            ]
          },
          "metadata": {},
          "output_type": "display_data"
        },
        {
          "data": {
            "application/vnd.jupyter.widget-view+json": {
              "model_id": "a9b7d6b7284a450b92457512d5cc9a84",
              "version_major": 2,
              "version_minor": 0
            },
            "text/plain": [
              "  0%|          | 0/391 [00:00<?, ?it/s]"
            ]
          },
          "metadata": {},
          "output_type": "display_data"
        },
        {
          "data": {
            "application/vnd.jupyter.widget-view+json": {
              "model_id": "12d6c91489294c61bbbdd0d0b4bf259a",
              "version_major": 2,
              "version_minor": 0
            },
            "text/plain": [
              "  0%|          | 0/391 [00:00<?, ?it/s]"
            ]
          },
          "metadata": {},
          "output_type": "display_data"
        },
        {
          "data": {
            "application/vnd.jupyter.widget-view+json": {
              "model_id": "990bf390232b4aa0abb909f1075f5a4e",
              "version_major": 2,
              "version_minor": 0
            },
            "text/plain": [
              "  0%|          | 0/391 [00:00<?, ?it/s]"
            ]
          },
          "metadata": {},
          "output_type": "display_data"
        },
        {
          "data": {
            "application/vnd.jupyter.widget-view+json": {
              "model_id": "be2cf970de3c425b9045d99ead93b19d",
              "version_major": 2,
              "version_minor": 0
            },
            "text/plain": [
              "  0%|          | 0/391 [00:00<?, ?it/s]"
            ]
          },
          "metadata": {},
          "output_type": "display_data"
        },
        {
          "data": {
            "application/vnd.jupyter.widget-view+json": {
              "model_id": "1ed2a4921b024d0f9c8759fcf0352086",
              "version_major": 2,
              "version_minor": 0
            },
            "text/plain": [
              "  0%|          | 0/391 [00:00<?, ?it/s]"
            ]
          },
          "metadata": {},
          "output_type": "display_data"
        },
        {
          "data": {
            "application/vnd.jupyter.widget-view+json": {
              "model_id": "17a438e2aa9742f693004a3c2ef7a4a4",
              "version_major": 2,
              "version_minor": 0
            },
            "text/plain": [
              "  0%|          | 0/391 [00:00<?, ?it/s]"
            ]
          },
          "metadata": {},
          "output_type": "display_data"
        },
        {
          "data": {
            "application/vnd.jupyter.widget-view+json": {
              "model_id": "0fb0f911288f4eafb6c3261768fe9ff2",
              "version_major": 2,
              "version_minor": 0
            },
            "text/plain": [
              "  0%|          | 0/391 [00:00<?, ?it/s]"
            ]
          },
          "metadata": {},
          "output_type": "display_data"
        },
        {
          "data": {
            "application/vnd.jupyter.widget-view+json": {
              "model_id": "b8e568b051a04a1aa0f5a31ebd0759c4",
              "version_major": 2,
              "version_minor": 0
            },
            "text/plain": [
              "  0%|          | 0/391 [00:00<?, ?it/s]"
            ]
          },
          "metadata": {},
          "output_type": "display_data"
        },
        {
          "data": {
            "application/vnd.jupyter.widget-view+json": {
              "model_id": "8dc4e4e1eabf4069a389acd10b75bbe5",
              "version_major": 2,
              "version_minor": 0
            },
            "text/plain": [
              "  0%|          | 0/391 [00:00<?, ?it/s]"
            ]
          },
          "metadata": {},
          "output_type": "display_data"
        },
        {
          "data": {
            "application/vnd.jupyter.widget-view+json": {
              "model_id": "73d1fb768d0b447487011f311ad1c5c3",
              "version_major": 2,
              "version_minor": 0
            },
            "text/plain": [
              "  0%|          | 0/391 [00:00<?, ?it/s]"
            ]
          },
          "metadata": {},
          "output_type": "display_data"
        },
        {
          "data": {
            "application/vnd.jupyter.widget-view+json": {
              "model_id": "894dc98be7f04302884e787d91c8434d",
              "version_major": 2,
              "version_minor": 0
            },
            "text/plain": [
              "  0%|          | 0/391 [00:00<?, ?it/s]"
            ]
          },
          "metadata": {},
          "output_type": "display_data"
        },
        {
          "data": {
            "application/vnd.jupyter.widget-view+json": {
              "model_id": "1bb1db1b8c184a2e812e0908ad1954ff",
              "version_major": 2,
              "version_minor": 0
            },
            "text/plain": [
              "  0%|          | 0/391 [00:00<?, ?it/s]"
            ]
          },
          "metadata": {},
          "output_type": "display_data"
        },
        {
          "data": {
            "application/vnd.jupyter.widget-view+json": {
              "model_id": "0a60865f49414249854c9d8097660490",
              "version_major": 2,
              "version_minor": 0
            },
            "text/plain": [
              "  0%|          | 0/391 [00:00<?, ?it/s]"
            ]
          },
          "metadata": {},
          "output_type": "display_data"
        },
        {
          "data": {
            "application/vnd.jupyter.widget-view+json": {
              "model_id": "16930cbf93db42a4aa9aa91ed6e138ed",
              "version_major": 2,
              "version_minor": 0
            },
            "text/plain": [
              "  0%|          | 0/391 [00:00<?, ?it/s]"
            ]
          },
          "metadata": {},
          "output_type": "display_data"
        },
        {
          "data": {
            "text/plain": [
              "Text(0.5, 1.0, 'Finetune Classification Val Accuracy')"
            ]
          },
          "execution_count": null,
          "metadata": {},
          "output_type": "execute_result"
        },
        {
          "data": {
            "image/png": "[encoded data removed]",
            "text/plain": [
              "<Figure size 432x288 with 1 Axes>"
            ]
          },
          "metadata": {},
          "output_type": "display_data"
        },
        {
          "data": {
            "image/png": "[encoded data removed]",
            "text/plain": [
              "<Figure size 432x288 with 1 Axes>"
            ]
          },
          "metadata": {},
          "output_type": "display_data"
        },
        {
          "data": {
            "image/png": "[encoded data removed]",
            "text/plain": [
              "<Figure size 432x288 with 1 Axes>"
            ]
          },
          "metadata": {},
          "output_type": "display_data"
        }
      ],
      "source": [
        "# Initilize classification model; set detach=False to update both the linear classifier and pretrained MAE model.\n",
        "model = ClassificationMAE(10, mae, detach=False)\n",
        "model.to(torch_device)\n",
        "\n",
        "# You may want to tune these hyperparameters to get better performance\n",
        "optimizer = optim.AdamW(model.parameters(), lr=1e-4, betas=(0.9, 0.95), weight_decay=1e-9)\n",
        "\n",
        "total_steps = 0\n",
        "num_epochs = 20\n",
        "train_logfreq = 100\n",
        "losses = []\n",
        "train_acc = []\n",
        "all_val_acc = []\n",
        "best_val_acc = 0\n",
        "\n",
        "epoch_iterator = trange(num_epochs)\n",
        "for epoch in epoch_iterator:\n",
        "    # Train\n",
        "    data_iterator = tqdm(trainloader)\n",
        "    for x, y in data_iterator:\n",
        "        total_steps += 1\n",
        "        x, y = x.to(torch_device), y.to(torch_device)\n",
        "        logits = model(x)\n",
        "        loss = torch.mean(F.cross_entropy(logits, y))\n",
        "        accuracy = torch.mean((torch.argmax(logits, dim=-1) == y).float())\n",
        "        optimizer.zero_grad()\n",
        "        loss.backward()\n",
        "        optimizer.step()\n",
        "\n",
        "        data_iterator.set_postfix(loss=loss.item(), train_acc=accuracy.item())\n",
        "\n",
        "        if total_steps % train_logfreq == 0:\n",
        "            losses.append(loss.item())\n",
        "            train_acc.append(accuracy.item())\n",
        "\n",
        "    # Validation\n",
        "    val_acc = []\n",
        "    model.eval()\n",
        "    for x, y in testloader:\n",
        "        x, y = x.to(torch_device), y.to(torch_device)\n",
        "        with torch.no_grad():\n",
        "          logits = model(x)\n",
        "        accuracy = torch.mean((torch.argmax(logits, dim=-1) == y).float())\n",
        "        val_acc.append(accuracy.item())\n",
        "    model.train()\n",
        "\n",
        "    all_val_acc.append(np.mean(val_acc))\n",
        "\n",
        "    # Save best model\n",
        "    if np.mean(val_acc) > best_val_acc:\n",
        "        best_val_acc = np.mean(val_acc)\n",
        "\n",
        "    epoch_iterator.set_postfix(val_acc=np.mean(val_acc), best_val_acc=best_val_acc)\n",
        "\n",
        "plt.plot(losses)\n",
        "plt.title('Finetune Classification Train Loss')\n",
        "plt.figure()\n",
        "plt.plot(train_acc)\n",
        "plt.title('Finetune Classification Train Accuracy')\n",
        "plt.figure()\n",
        "plt.plot(all_val_acc)\n",
        "plt.title('Finetune Classification Val Accuracy')"
      ]
    },
    {
      "cell_type": "code",
      "execution_count": null,
      "metadata": {
        "cellView": "form",
        "colab": {
          "background_save": true
        },
        "id": "Q9k0Ca7MDSFP",
        "outputId": "2cab6a98-c94a-4aa0-878d-85cd42eebe05"
      },
      "outputs": [
        {
          "name": "stdout",
          "output_type": "stream",
          "text": [
            "The accuracy 0.7728441455696202 is better than threshold accuracy 0.7\n"
          ]
        }
      ],
      "source": [
        "#@title Test your implementation, your accuracy should be greater than 70%\n",
        "auto_grader_data['output']['mae_finetune_acc'] = best_val_acc\n",
        "save_auto_grader_data()\n",
        "check_acc(best_val_acc, threshold=0.70)"
      ]
    },
    {
      "cell_type": "markdown",
      "metadata": {
        "id": "b3i2FR3LQ7hz"
      },
      "source": [
        "## Prepare Gradescope submission\n",
        "\n",
        "**NOTE:** change the following path to your ```root_dir``` in the begining.\n",
        "\n",
        "Run the following cell will automatically prepare and download ```hw4_submission.zip```.\n",
        "\n",
        "Upload the downloaded file to Gradescope.\n",
        "The Gradescope will run an autograder on the files you submit. \n",
        "\n",
        "It is very unlikely but still possible that your implementation might fail to pass some test cases due to randomness.\n",
        "If you think your code is correct, you can simply rerun the autograder to check check whether it is really due to randomness."
      ]
    },
    {
      "cell_type": "code",
      "execution_count": null,
      "metadata": {
        "colab": {
          "background_save": true
        },
        "id": "NFzRCAcMBu5G",
        "outputId": "9e454d1d-bdc2-488e-f9c8-19907f226a68"
      },
      "outputs": [
        {
          "name": "stdout",
          "output_type": "stream",
          "text": [
            "/content\n",
            "/content/drive/MyDrive/cs182_hw4_colab\n",
            "rm: cannot remove 'hw4_submission.zip': No such file or directory\n",
            "\tzip warning: name not matched: *.ipynb\n",
            "  adding: autograder.pt (deflated 8%)\n"
          ]
        },
        {
          "data": {
            "application/javascript": [
              "\n",
              "    async function download(id, filename, size) {\n",
              "      if (!google.colab.kernel.accessAllowed) {\n",
              "        return;\n",
              "      }\n",
              "      const div = document.createElement('div');\n",
              "      const label = document.createElement('label');\n",
              "      label.textContent = `Downloading \"${filename}\": `;\n",
              "      div.appendChild(label);\n",
              "      const progress = document.createElement('progress');\n",
              "      progress.max = size;\n",
              "      div.appendChild(progress);\n",
              "      document.body.appendChild(div);\n",
              "\n",
              "      const buffers = [];\n",
              "      let downloaded = 0;\n",
              "\n",
              "      const channel = await google.colab.kernel.comms.open(id);\n",
              "      // Send a message to notify the kernel that we're ready.\n",
              "      channel.send({})\n",
              "\n",
              "      for await (const message of channel.messages) {\n",
              "        // Send a message to notify the kernel that we're ready.\n",
              "        channel.send({})\n",
              "        if (message.buffers) {\n",
              "          for (const buffer of message.buffers) {\n",
              "            buffers.push(buffer);\n",
              "            downloaded += buffer.byteLength;\n",
              "            progress.value = downloaded;\n",
              "          }\n",
              "        }\n",
              "      }\n",
              "      const blob = new Blob(buffers, {type: 'application/binary'});\n",
              "      const a = document.createElement('a');\n",
              "      a.href = window.URL.createObjectURL(blob);\n",
              "      a.download = filename;\n",
              "      div.appendChild(a);\n",
              "      a.click();\n",
              "      div.remove();\n",
              "    }\n",
              "  "
            ],
            "text/plain": [
              "<IPython.core.display.Javascript object>"
            ]
          },
          "metadata": {},
          "output_type": "display_data"
        },
        {
          "data": {
            "application/javascript": [
              "download(\"download_09b380f2-a107-4182-910a-0db84da6ed6e\", \"hw4_submission.zip\", 1128501)"
            ],
            "text/plain": [
              "<IPython.core.display.Javascript object>"
            ]
          },
          "metadata": {},
          "output_type": "display_data"
        }
      ],
      "source": [
        "%cd /content/drive/MyDrive/cs182_hw4_colab\n",
        "!pwd # make sure we are in the right dir\n",
        "\n",
        "!rm hw4_submission.zip\n",
        "!zip hw4_submission.zip -r *.ipynb autograder.pt\n",
        "\n",
        "from google.colab import files\n",
        "files.download('hw4_submission.zip') "
      ]
    },
    {
      "cell_type": "code",
      "execution_count": null,
      "metadata": {
        "colab": {
          "background_save": true
        },
        "id": "RhpgPtiIzDU1"
      },
      "outputs": [],
      "source": []
    }
  ],
  "metadata": {
    "accelerator": "GPU",
    "colab": {
      "provenance": []
    },
    "kernelspec": {
      "display_name": "Python 3",
      "name": "python3"
    },
    "language_info": {
      "name": "python"
    },
    "widgets": {
      "application/vnd.jupyter.widget-state+json": {}
    }
  },
  "nbformat": 4,
  "nbformat_minor": 0
}